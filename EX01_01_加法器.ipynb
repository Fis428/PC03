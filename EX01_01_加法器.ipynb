{
  "nbformat": 4,
  "nbformat_minor": 0,
  "metadata": {
    "colab": {
      "provenance": [],
      "authorship_tag": "ABX9TyM3w0O16qL3pcP1ghovlzRM",
      "include_colab_link": true
    },
    "kernelspec": {
      "name": "python3",
      "display_name": "Python 3"
    },
    "language_info": {
      "name": "python"
    }
  },
  "cells": [
    {
      "cell_type": "markdown",
      "metadata": {
        "id": "view-in-github",
        "colab_type": "text"
      },
      "source": [
        "<a href=\"https://colab.research.google.com/github/Fis428/PC03/blob/main/EX01_01_%E5%8A%A0%E6%B3%95%E5%99%A8.ipynb\" target=\"_parent\"><img src=\"https://colab.research.google.com/assets/colab-badge.svg\" alt=\"Open In Colab\"/></a>"
      ]
    },
    {
      "cell_type": "code",
      "execution_count": 4,
      "metadata": {
        "colab": {
          "base_uri": "https://localhost:8080/"
        },
        "id": "b1izXHlcNRHW",
        "outputId": "def70aa3-4cea-4580-f689-df67a203de4a"
      },
      "outputs": [
        {
          "output_type": "stream",
          "name": "stdout",
          "text": [
            "請輸入第一個數字1\n",
            "請輸入第二個數字2\n",
            "依據您所輸入的數字，相加後的結果是 : 3\n"
          ]
        }
      ],
      "source": [
        "# 取得整數1\n",
        "num1= int(input('請輸入第一個數字'))\n",
        "# 取得整數2\n",
        "num2= int(input('請輸入第二個數字'))\n",
        "# 將兩個整數值相加\n",
        "result=num1+num2\n",
        "# 輸出相加結果\n",
        "print(\"依據您所輸入的數字，相加後的結果是 :\",result)"
      ]
    },
    {
      "cell_type": "code",
      "source": [
        "#改良版本 縮減程式碼行數\n",
        "# 取得整數1\n",
        "num1= int(input('請輸入第一個數字'))\n",
        "# 取得整數2\n",
        "num2= int(input('請輸入第二個數字'))\n",
        "# 將兩個整數值相加\n",
        "# 輸出相加結果\n",
        "print(\"依據您所輸入的數字，相加後的結果是 :\",num1+num2)"
      ],
      "metadata": {
        "colab": {
          "base_uri": "https://localhost:8080/"
        },
        "id": "ZNunfs7UOcyH",
        "outputId": "acfc89aa-c2a0-4e57-bc58-41058f156427"
      },
      "execution_count": 5,
      "outputs": [
        {
          "output_type": "stream",
          "name": "stdout",
          "text": [
            "請輸入第一個數字1\n",
            "請輸入第二個數字2\n",
            "依據您所輸入的數字，相加後的結果是 : 3\n"
          ]
        }
      ]
    }
  ]
}