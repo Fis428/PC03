{
  "nbformat": 4,
  "nbformat_minor": 0,
  "metadata": {
    "colab": {
      "provenance": [],
      "include_colab_link": true
    },
    "kernelspec": {
      "name": "python3",
      "display_name": "Python 3"
    },
    "language_info": {
      "name": "python"
    }
  },
  "cells": [
    {
      "cell_type": "markdown",
      "metadata": {
        "id": "view-in-github",
        "colab_type": "text"
      },
      "source": [
        "<a href=\"https://colab.research.google.com/github/Fis428/PC03/blob/main/HW02_%E4%BD%9C%E6%A5%AD.ipynb\" target=\"_parent\"><img src=\"https://colab.research.google.com/assets/colab-badge.svg\" alt=\"Open In Colab\"/></a>"
      ]
    },
    {
      "cell_type": "markdown",
      "source": [
        "# HW02 Web Crawler"
      ],
      "metadata": {
        "id": "eo72fZ0YlURV"
      }
    },
    {
      "cell_type": "markdown",
      "source": [
        "## 題目"
      ],
      "metadata": {
        "id": "gUsBAopRJMJD"
      }
    },
    {
      "cell_type": "markdown",
      "source": [
        "*2023高人指點微醺地圖爬蟲*"
      ],
      "metadata": {
        "id": "pDHhflLyJRgS"
      }
    },
    {
      "cell_type": "markdown",
      "source": [
        "## 摘要"
      ],
      "metadata": {
        "id": "hbqT3pl04Hl9"
      }
    },
    {
      "cell_type": "markdown",
      "source": [
        "本報告透過網路爬蟲技術，從高雄旅遊網「2023高人指點微醺地圖」[活動頁](https://khh.travel/zh-tw/event/news/4777/)\n",
        "擷取以下資訊：\n",
        "*   活動標題\n",
        "*   更新日期\n",
        "*   人氣\n",
        "*   各行政區餐酒館清單（區域名稱、店名、地址、電話）\n",
        "\n",
        "\n",
        "並將結果存成 CSV 檔，提供後續旅遊規劃及資料分析之用。\n",
        "\n"
      ],
      "metadata": {
        "id": "eweMw-wh4TC0"
      }
    },
    {
      "cell_type": "markdown",
      "source": [
        "## 引言"
      ],
      "metadata": {
        "id": "9nb1aHAM4XiE"
      }
    },
    {
      "cell_type": "markdown",
      "source": [
        "隨著深度旅遊與在地飲食文化崛起，遊客對特色餐酒館的需求日益增加。高雄旅遊網官方活動頁整理了全市各區的酒吧與餐酒館資訊，包含地址與聯絡方式。若能自動化擷取並整合這些資料，不僅能節省手動蒐集時間，也能快速進行地理分布與人氣分析，對旅遊規劃具體參考價值。\n",
        "\n"
      ],
      "metadata": {
        "id": "0ZmT034r5F9R"
      }
    },
    {
      "cell_type": "markdown",
      "source": [
        "## 方法"
      ],
      "metadata": {
        "id": "8YMFd39F4n4l"
      }
    },
    {
      "cell_type": "markdown",
      "source": [
        "\n",
        "工具與技術\n",
        "- 程式語言：Python 3.x\n",
        "\n",
        "- 核心套件：\n",
        "\n",
        "- `requests`：發送 HTTP 請求\n",
        "\n",
        "- `BeautifulSoup`：解析 HTML\n",
        "\n",
        "- `csv`：匯出資料\n",
        "\n",
        "實作流程\n",
        "1. 使用 `requests.get()` 取得頁面原始碼，設定 `resp.encoding = 'utf-8'` 以支援中文。\n",
        "\n",
        "2. 以 `BeautifulSoup(resp.text, \"html.parser\")` 解析 HTML。\n",
        "\n",
        "3. `.find()` 定位並擷取標題、更新日期、人氣三個元素的文字。\n",
        "\n",
        "4. 以 `.find_all(\"h3\")` 取得所有區域標題，並對每個 <h3> 執行` .find_next_siblings()`，收集同區之店家資訊。\n",
        "\n",
        "5. 清理並拆解每段文字，分別擷取「店名」、「地址」（去除前綴「地址：」）與「電話」（去除「電話：」）。\n",
        "\n",
        "6. 將整理後的字典列表寫入 CSV，欄位包含 Metadata（標題、更新日期、人氣）及資料列（Area／Name／Address／Tel）。\n",
        "\n",
        "\n",
        "\n",
        "\n"
      ],
      "metadata": {
        "id": "zkix6XqZ429E"
      }
    },
    {
      "cell_type": "code",
      "source": [
        "import requests\n",
        "from bs4 import BeautifulSoup\n",
        "import csv\n",
        "import re\n",
        "\n",
        "url  = \"https://khh.travel/zh-tw/event/news/4777/\"\n",
        "resp = requests.get(url)\n",
        "resp.encoding = 'utf-8'\n",
        "soup = BeautifulSoup(resp.text, \"html.parser\")\n",
        "\n",
        "# 1. 標題：取第一個 <h2>\n",
        "title = soup.find(\"h2\").get_text(strip=True)\n",
        "\n",
        "# 2. 更新日期：用 string= 正規比對「更新日期:YYYY-MM-DD」\n",
        "date_line = soup.find(\n",
        "    string=re.compile(r\"更新日期 *: *\\d{4}-\\d{2}-\\d{2}\")\n",
        ")\n",
        "if date_line:\n",
        "    date = re.search(r\"\\d{4}-\\d{2}-\\d{2}\", date_line).group()\n",
        "else:\n",
        "    date = \"N/A\"\n",
        "\n",
        "# 3. 人氣：先找到「人氣」文字，接著 find_next 找出第一個數字字串\n",
        "pop_label = soup.find(string=re.compile(r\"人氣\"))\n",
        "if pop_label:\n",
        "    pop = pop_label.find_next(\n",
        "        string=re.compile(r\"\\d+\")\n",
        "    ).strip()\n",
        "else:\n",
        "    pop = \"0\"\n",
        "\n",
        "print(\"■ 標題：\",    title)  # 2023高人指點微醺地圖\n",
        "print(\"■ 更新日期：\", date)   # 2024-05-02\n",
        "print(\"■ 人氣：\",    pop)     # 13110\n",
        "\n",
        "# 4. 各區餐酒館列表（同之前邏輯）\n",
        "data = []\n",
        "for sec in soup.find_all(\"h3\"):\n",
        "    area = sec.get_text(strip=True)\n",
        "    for sib in sec.find_next_siblings():\n",
        "        if sib.name in (\"h2\",\"h3\"):\n",
        "            break\n",
        "        if sib.name == \"p\":\n",
        "            lines = sib.get_text(\"\\n\", strip=True).splitlines()\n",
        "            name = lines[0]\n",
        "            addr = next((l.replace(\"地址：\",\"\") for l in lines if l.startswith(\"地址：\")), \"\")\n",
        "            tel  = next((l.replace(\"電話：\",\"\") for l in lines if l.startswith(\"電話：\")), \"\")\n",
        "            data.append({\n",
        "                \"Area\":    area,\n",
        "                \"Name\":    name,\n",
        "                \"Address\": addr,\n",
        "                \"Tel\":     tel\n",
        "            })\n",
        "\n",
        "# 5. 匯出 CSV\n",
        "with open(\"kaohsiung_nightmap.csv\", \"w\", newline=\"\", encoding=\"utf-8\") as f:\n",
        "    writer = csv.writer(f)\n",
        "    writer.writerow([\"報名標題\",  title])\n",
        "    writer.writerow([\"更新日期\",  date])\n",
        "    writer.writerow([\"人氣\",     pop])\n",
        "    writer.writerow([])\n",
        "    writer.writerow([\"Area\",\"Name\",\"Address\",\"Tel\"])\n",
        "    for row in data:\n",
        "        writer.writerow([row[\"Area\"], row[\"Name\"], row[\"Address\"], row[\"Tel\"]])\n",
        "\n",
        "print(\"CSV 已寫入：kaohsiung_nightmap.csv\")\n"
      ],
      "metadata": {
        "id": "ziaWIQ0t8vKt",
        "colab": {
          "base_uri": "https://localhost:8080/"
        },
        "outputId": "96e29240-a4d2-4540-e2ea-5cb297173687"
      },
      "execution_count": null,
      "outputs": [
        {
          "output_type": "stream",
          "name": "stdout",
          "text": [
            "■ 標題： 2023高人指點微醺地圖\n",
            "■ 更新日期： N/A\n",
            "■ 人氣： 13114\n",
            "CSV 已寫入：kaohsiung_nightmap.csv\n"
          ]
        }
      ]
    },
    {
      "cell_type": "markdown",
      "source": [
        "## 結果\n"
      ],
      "metadata": {
        "id": "mHEo_iad7QMa"
      }
    },
    {
      "cell_type": "markdown",
      "source": [
        "數據存儲方式\n",
        "\n",
        "將擷取到的活動頁 Metadata（標題／更新日期／人氣）與各區店家清單儲存為 CSV 檔，檔名 kaohsiung_nightmap.csv，方便後續匯入 Excel 或 Pandas 做進一步分析。"
      ],
      "metadata": {
        "id": "Fx3h33cU8n8t"
      }
    },
    {
      "cell_type": "code",
      "source": [
        "# 以 CSV Writer 將結果依序寫入：\n",
        "with open(\"kaohsiung_nightmap.csv\", \"w\", newline=\"\", encoding=\"utf-8\") as f:\n",
        "    writer = csv.writer(f)\n",
        "    # metadata\n",
        "    writer.writerow([\"報名標題\",  title])\n",
        "    writer.writerow([\"更新日期\",  date])\n",
        "    writer.writerow([\"人氣\",     pop])\n",
        "    writer.writerow([])\n",
        "    # header + data rows\n",
        "    writer.writerow([\"Area\",\"Name\",\"Address\",\"Tel\"])\n",
        "    for row in data:\n",
        "        writer.writerow([\n",
        "            row[\"Area\"],\n",
        "            row[\"Name\"],\n",
        "            row[\"Address\"],\n",
        "            row[\"Tel\"]\n",
        "        ])\n"
      ],
      "metadata": {
        "id": "jsLbLuSa8mnY"
      },
      "execution_count": null,
      "outputs": []
    },
    {
      "cell_type": "markdown",
      "source": [
        "## 問題與挑戰"
      ],
      "metadata": {
        "id": "6yHFop_b73gY"
      }
    },
    {
      "cell_type": "markdown",
      "source": [
        "1.  HTML 標籤不一\n",
        "\n",
        " 有時店家資訊可能不是以` <p> `呈現，改用 `<div>` 或 `<li>`，必須事先在 DevTools 檢查並調整 selector。\n",
        "2. 文字節點 NoneType\n",
        "\n",
        "  直接用` find(string=…)` 抓「更新日期」或「人氣」時，若匹配不到會回傳 `None`，必須加上  `if … is None` 判斷以免出錯。\n",
        "\n",
        "3. 已棄用參數警告\n",
        "\n",
        "  BeautifulSoup 原本的 `find(text=…)` 會跳 deprecation warning，改為 `find(string=…)` 即可。\n",
        "\n",
        "4. 動態內容\n",
        "\n",
        "  若未來碰到需要 AJAX 載入的資料，就必須改用 Selenium 或反向工程 API 端點。"
      ],
      "metadata": {
        "id": "D6roihku8PBu"
      }
    },
    {
      "cell_type": "markdown",
      "source": [
        "## 結論"
      ],
      "metadata": {
        "id": "VeQHgVuqqD3J"
      }
    },
    {
      "cell_type": "markdown",
      "source": [
        "\n",
        "- 成功自動化擷取高雄旅遊網「2023高人指點微醺地圖」活動頁的所有關鍵資訊，包括標題、更新日期、人氣，以及依行政區分類的餐酒館名單。\n",
        "\n",
        "- 將結果結構化為 CSV，減少手動整理時間，並能快速讓旅遊規劃者或資料分析師做後續統計、視覺化等應用。\n",
        "\n",
        "- 未來可進一步延伸：\n",
        "\n",
        "  - 多頁批次爬取：一次抓取高雄旅遊網多個活動或新聞頁面，累積更大樣本。\n",
        "\n",
        "  - 地圖標註：結合 Google Maps API 或 Folium，將店家以地理座標顯示在互動地圖上。\n",
        "\n",
        "  - 情感／熱度分析：若有評論文字，可做文字探勘，分析顧客評價與店家人氣關係。\n",
        "\n"
      ],
      "metadata": {
        "id": "Baea2g7J9DAL"
      }
    },
    {
      "cell_type": "markdown",
      "source": [
        "## 參考文獻"
      ],
      "metadata": {
        "id": "j5hI_9QW9dTt"
      }
    },
    {
      "cell_type": "markdown",
      "source": [
        "* [高雄旅遊網「2023高人指點微醺地圖」](https://khh.travel/zh-tw/event/news/4777/)"
      ],
      "metadata": {
        "id": "eLFvp2Fk9fSa"
      }
    }
  ]
}