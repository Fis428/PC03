{
  "nbformat": 4,
  "nbformat_minor": 0,
  "metadata": {
    "colab": {
      "provenance": [],
      "authorship_tag": "ABX9TyMWS05qDfE92oFun5XUKZh1",
      "include_colab_link": true
    },
    "kernelspec": {
      "name": "python3",
      "display_name": "Python 3"
    },
    "language_info": {
      "name": "python"
    }
  },
  "cells": [
    {
      "cell_type": "markdown",
      "metadata": {
        "id": "view-in-github",
        "colab_type": "text"
      },
      "source": [
        "<a href=\"https://colab.research.google.com/github/Fis428/PC03/blob/main/EX05_04_Reply_Template_Messages.ipynb\" target=\"_parent\"><img src=\"https://colab.research.google.com/assets/colab-badge.svg\" alt=\"Open In Colab\"/></a>"
      ]
    },
    {
      "cell_type": "code",
      "execution_count": null,
      "metadata": {
        "colab": {
          "base_uri": "https://localhost:8080/"
        },
        "id": "-7e6opKEkOWk",
        "outputId": "8b7273df-26d8-43af-8a7f-6416daf5c010"
      },
      "outputs": [
        {
          "output_type": "stream",
          "name": "stdout",
          "text": [
            "\u001b[?25l   \u001b[90m━━━━━━━━━━━━━━━━━━━━━━━━━━━━━━━━━━━━━━━━\u001b[0m \u001b[32m0.0/776.1 kB\u001b[0m \u001b[31m?\u001b[0m eta \u001b[36m-:--:--\u001b[0m\r\u001b[2K   \u001b[91m━━━━━━━━━━━━━━━━━━━━━━━━━━━━━━━━━━━━━━━\u001b[0m\u001b[91m╸\u001b[0m \u001b[32m768.0/776.1 kB\u001b[0m \u001b[31m34.7 MB/s\u001b[0m eta \u001b[36m0:00:01\u001b[0m\r\u001b[2K   \u001b[90m━━━━━━━━━━━━━━━━━━━━━━━━━━━━━━━━━━━━━━━━\u001b[0m \u001b[32m776.1/776.1 kB\u001b[0m \u001b[31m15.7 MB/s\u001b[0m eta \u001b[36m0:00:00\u001b[0m\n",
            "\u001b[?25h\u001b[?25l   \u001b[90m━━━━━━━━━━━━━━━━━━━━━━━━━━━━━━━━━━━━━━━━\u001b[0m \u001b[32m0.0/165.6 kB\u001b[0m \u001b[31m?\u001b[0m eta \u001b[36m-:--:--\u001b[0m\r\u001b[2K   \u001b[90m━━━━━━━━━━━━━━━━━━━━━━━━━━━━━━━━━━━━━━━━\u001b[0m \u001b[32m165.6/165.6 kB\u001b[0m \u001b[31m7.0 MB/s\u001b[0m eta \u001b[36m0:00:00\u001b[0m\n",
            "\u001b[?25h"
          ]
        }
      ],
      "source": [
        "# 0. 安裝必要套件（Colab 或本機皆可）\n",
        "!pip install -q flask pyngrok flask_ngrok line-bot-sdk google-generativeai\n"
      ]
    },
    {
      "cell_type": "code",
      "source": [
        "# 2. 載入套件\n",
        "from flask import Flask, request, abort\n",
        "from pyngrok import ngrok\n",
        "from flask_ngrok import run_with_ngrok\n",
        "\n",
        "from linebot.v3 import WebhookHandler\n",
        "from linebot.v3.exceptions import InvalidSignatureError\n",
        "from linebot.v3.webhooks import MessageEvent, TextMessageContent\n",
        "from linebot.v3.messaging import (\n",
        "    Configuration, ApiClient, MessagingApi,\n",
        "    ReplyMessageRequest, TextMessage,\n",
        "    TemplateMessage, ConfirmTemplate, MessageAction,\n",
        "    CarouselTemplate, CarouselColumn, URIAction, PostbackAction\n",
        ")\n",
        "\n",
        "import google.generativeai as genai\n"
      ],
      "metadata": {
        "id": "FR8xcaYtk0dG"
      },
      "execution_count": null,
      "outputs": []
    },
    {
      "cell_type": "code",
      "source": [
        "# 3. 讀取環境變數\n",
        "LINE_TOKEN  = os.environ['LINE_CHANNEL_ACCESS_TOKEN']\n",
        "LINE_SECRET = os.environ['LINE_CHANNEL_SECRET']\n",
        "GOOGLE_KEY  = os.environ['GOOGLE_API_KEY']\n",
        "NGROK_TOKEN = os.environ['NGROK_AUTHTOKEN']\n"
      ],
      "metadata": {
        "id": "fd1y0DP1k355"
      },
      "execution_count": null,
      "outputs": []
    },
    {
      "cell_type": "code",
      "source": [
        "# 4. Flask + LINE + Gemini 初始化\n",
        "app = Flask(__name__)\n",
        "\n",
        "configuration = Configuration(access_token=LINE_TOKEN)\n",
        "handler       = WebhookHandler(LINE_SECRET)\n",
        "\n",
        "genai.configure(api_key=GOOGLE_KEY)\n",
        "model = genai.GenerativeModel(\"gemini-2.0-flash\")\n",
        "\n",
        "def ask_gemini(question: str) -> str:\n",
        "    return model.generate_content(question).text\n"
      ],
      "metadata": {
        "colab": {
          "base_uri": "https://localhost:8080/",
          "height": 211
        },
        "id": "_3W2jV1nk5mM",
        "outputId": "a7e1ece5-80f0-4d08-844c-57466963a6da"
      },
      "execution_count": null,
      "outputs": [
        {
          "output_type": "error",
          "ename": "NameError",
          "evalue": "name 'LINE_TOKEN' is not defined",
          "traceback": [
            "\u001b[0;31m---------------------------------------------------------------------------\u001b[0m",
            "\u001b[0;31mNameError\u001b[0m                                 Traceback (most recent call last)",
            "\u001b[0;32m<ipython-input-3-3973872795>\u001b[0m in \u001b[0;36m<cell line: 0>\u001b[0;34m()\u001b[0m\n\u001b[1;32m      2\u001b[0m \u001b[0mapp\u001b[0m \u001b[0;34m=\u001b[0m \u001b[0mFlask\u001b[0m\u001b[0;34m(\u001b[0m\u001b[0m__name__\u001b[0m\u001b[0;34m)\u001b[0m\u001b[0;34m\u001b[0m\u001b[0;34m\u001b[0m\u001b[0m\n\u001b[1;32m      3\u001b[0m \u001b[0;34m\u001b[0m\u001b[0m\n\u001b[0;32m----> 4\u001b[0;31m \u001b[0mconfiguration\u001b[0m \u001b[0;34m=\u001b[0m \u001b[0mConfiguration\u001b[0m\u001b[0;34m(\u001b[0m\u001b[0maccess_token\u001b[0m\u001b[0;34m=\u001b[0m\u001b[0mLINE_TOKEN\u001b[0m\u001b[0;34m)\u001b[0m\u001b[0;34m\u001b[0m\u001b[0;34m\u001b[0m\u001b[0m\n\u001b[0m\u001b[1;32m      5\u001b[0m \u001b[0mhandler\u001b[0m       \u001b[0;34m=\u001b[0m \u001b[0mWebhookHandler\u001b[0m\u001b[0;34m(\u001b[0m\u001b[0mLINE_SECRET\u001b[0m\u001b[0;34m)\u001b[0m\u001b[0;34m\u001b[0m\u001b[0;34m\u001b[0m\u001b[0m\n\u001b[1;32m      6\u001b[0m \u001b[0;34m\u001b[0m\u001b[0m\n",
            "\u001b[0;31mNameError\u001b[0m: name 'LINE_TOKEN' is not defined"
          ]
        }
      ]
    },
    {
      "cell_type": "code",
      "source": [
        "# 5. （Colab 用）啟動 ngrok\n",
        "def start_ngrok():\n",
        "    ngrok.set_auth_token(NGROK_TOKEN)\n",
        "    public_url = ngrok.connect(5000)\n",
        "    print(\"ngrok URL:\", public_url)\n",
        "    run_with_ngrok(app)\n"
      ],
      "metadata": {
        "id": "WMHopATHk7jj"
      },
      "execution_count": null,
      "outputs": []
    },
    {
      "cell_type": "code",
      "source": [
        "# 6. Webhook 路由\n",
        "@app.route(\"/callback\", methods=['POST'])\n",
        "def callback():\n",
        "    signature = request.headers.get('X-Line-Signature', '')\n",
        "    body      = request.get_data(as_text=True)\n",
        "    try:\n",
        "        handler.handle(body, signature)\n",
        "    except InvalidSignatureError:\n",
        "        abort(400)\n",
        "    return \"OK\"\n"
      ],
      "metadata": {
        "id": "sKGXWqJ7k_9-"
      },
      "execution_count": null,
      "outputs": []
    },
    {
      "cell_type": "code",
      "source": [
        "# 7. 處理各種訊息：確認視窗、走馬燈、或委派給 Gemini\n",
        "@handler.add(MessageEvent, message=TextMessageContent)\n",
        "def handle_message(event):\n",
        "    action = event.message.text.strip().lower()\n",
        "\n",
        "    # 1) 確認視窗\n",
        "    if action == 'confirm':\n",
        "        reply = TemplateMessage(\n",
        "            alt_text=\"這是確認視窗\",\n",
        "            template=ConfirmTemplate(\n",
        "                text=\"你喜歡看魯邦三世大冒險嗎？\",\n",
        "                actions=[\n",
        "                    MessageAction(label=\"是\", text=\"我很喜歡魯邦三世！\"),\n",
        "                    MessageAction(label=\"否\", text=\"其實我非常喜歡，只是要假裝討厭XD\")\n",
        "                ]\n",
        "            )\n",
        "        )\n",
        "\n",
        "    # 2) 走馬燈選單\n",
        "    elif action == 'carousel':\n",
        "        carousel = CarouselTemplate(columns=[\n",
        "            CarouselColumn(\n",
        "                thumbnail_image_url='https://upload.wikimedia.org/wikipedia/zh/7/7d/Summer_Wars_poster.jpg',\n",
        "                title='夏日大作戰',\n",
        "                text='細田守導演的日本科幻動畫電影',\n",
        "                actions=[\n",
        "                    URIAction(label='維基百科', uri='https://zh.wikipedia.org/zh-tw/%E5%A4%8F%E6%97%A5%E5%A4%A7%E4%BD%9C%E6%88%B0'),\n",
        "                    MessageAction(label='投票', text='我投夏日大作戰一票！')\n",
        "                ]\n",
        "            ),\n",
        "            CarouselColumn(\n",
        "                thumbnail_image_url='https://upload.wikimedia.org/wikipedia/zh/thumb/4/4f/Castle_of_Cagliostro_poster.png/250px-Castle_of_Cagliostro_poster.png',\n",
        "                title='魯邦三世 卡里奧斯特羅城',\n",
        "                text='宮崎駿導演的日本動畫冒險電影',\n",
        "                actions=[\n",
        "                    URIAction(label='維基百科', uri='https://zh.wikipedia.org/zh-tw/%E9%AD%AF%E6%9D%8E%E4%B8%89%E4%B8%96:%E5%8D%A1%E9%87%8C%E5%A5%A5%E6%96%AF%E7%89%B9%E7%BD%97%E5%9F%8E'),\n",
        "                    MessageAction(label='投票', text='我投卡里奧斯特羅城一票！')\n",
        "                ]\n",
        "            )\n",
        "        ])\n",
        "        reply = TemplateMessage(alt_text=\"這是走馬燈選單\", template=carousel)\n",
        "\n",
        "    # 3) 其他文字：交給 Gemini AI 回答\n",
        "    else:\n",
        "        ai_text = ask_gemini(event.message.text)\n",
        "        reply   = TextMessage(text=ai_text)\n",
        "\n",
        "    # 4) 發送回覆\n",
        "    with ApiClient(configuration) as api_client:\n",
        "        api = MessagingApi(api_client)\n",
        "        api.reply_message(\n",
        "            ReplyMessageRequest(\n",
        "                reply_token=event.reply_token,\n",
        "                messages=[reply]\n",
        "            )\n",
        "        )\n"
      ],
      "metadata": {
        "id": "koyzuHZllBqQ"
      },
      "execution_count": null,
      "outputs": []
    },
    {
      "cell_type": "code",
      "source": [
        "# 8. 啟動整個服務\n",
        "if __name__ == \"__main__\":\n",
        "    # 若在 Colab，就啟動 ngrok；否則直接跑 Flask\n",
        "    try:\n",
        "        start_ngrok()\n",
        "    except:\n",
        "        app.run(port=5000)\n"
      ],
      "metadata": {
        "id": "AhqCNj2RlF5E"
      },
      "execution_count": null,
      "outputs": []
    }
  ]
}