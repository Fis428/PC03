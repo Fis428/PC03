{
  "nbformat": 4,
  "nbformat_minor": 0,
  "metadata": {
    "colab": {
      "provenance": [],
      "include_colab_link": true
    },
    "kernelspec": {
      "name": "python3",
      "display_name": "Python 3"
    },
    "language_info": {
      "name": "python"
    }
  },
  "cells": [
    {
      "cell_type": "markdown",
      "metadata": {
        "id": "view-in-github",
        "colab_type": "text"
      },
      "source": [
        "<a href=\"https://colab.research.google.com/github/Fis428/PC03/blob/main/HW03.ipynb\" target=\"_parent\"><img src=\"https://colab.research.google.com/assets/colab-badge.svg\" alt=\"Open In Colab\"/></a>"
      ]
    },
    {
      "cell_type": "markdown",
      "source": [
        "# HW03 Data Analysis"
      ],
      "metadata": {
        "id": "2WSRSBtVb3Bc"
      }
    },
    {
      "cell_type": "markdown",
      "source": [
        "## 標題：鐵達尼號乘客生存分析報告"
      ],
      "metadata": {
        "id": "F_ItKw0ab7a2"
      }
    },
    {
      "cell_type": "markdown",
      "source": [
        "## 摘要"
      ],
      "metadata": {
        "id": "W6K3yshicMNP"
      }
    },
    {
      "cell_type": "markdown",
      "source": [
        "本報告基於 Seaborn 提供的 `titanic` 資料集，探討影響乘客存活的主要因素。\n",
        "我們首先分析艙等（class）、性別（sex）、年齡（age）三者與存活（survived）之間的關係，接著比較不同群體的存活率，並依此提出對歷史事件解讀或現代災難應對的建議。"
      ],
      "metadata": {
        "id": "pAdGh_VXcQr-"
      }
    },
    {
      "cell_type": "markdown",
      "source": [
        "## 引言"
      ],
      "metadata": {
        "id": "VFQON7oAcXaS"
      }
    },
    {
      "cell_type": "markdown",
      "source": [
        "### 背景\n",
        "1912 年 4 月 15 日，鐵達尼號在處女航中沉沒，造成約 1,500 人罹難。歷史上人們常以「婦女小孩優先」等口號，推測是哪一些因素最顯著地影響存活機率。\n",
        "### 目的\n",
        "透過資料分析，定量化「艙等」、「性別」、「年齡」對存活率的影響，並驗證眾說紛紜的傳統觀點。\n",
        "\n",
        "### 待答問題\n",
        "1. 不同艙等（First/Second/Third）乘客的存活率是否存在顯著差異？\n",
        "\n",
        "2. 男性與女性的存活率有多大差距？\n",
        "\n",
        "3. 年齡對存活率的影響趨勢為何？兒童存活率是否真的較高？"
      ],
      "metadata": {
        "id": "caLnttQ7ceq-"
      }
    },
    {
      "cell_type": "markdown",
      "source": [
        "## 方法"
      ],
      "metadata": {
        "id": "KLbhbO52ciaA"
      }
    },
    {
      "cell_type": "markdown",
      "source": [
        "### 數據來源\n",
        "本研究使用 Seaborn 內建的 titanic 資料集，包含 891 筆乘客記錄，共 15 個欄位（如 survived, pclass, sex, age…）。\n",
        "\n",
        "\n",
        "```\n",
        "import seaborn as sns\n",
        "titanic = sns.load_dataset(\"titanic\")\n",
        "\n",
        "```\n",
        "\n",
        "\n",
        "\n",
        "### 分析工具\n",
        "- **Python**（數據處理與分析）\n",
        "- **Pandas**（數據清理與統計分析）\n",
        "- **Matplotlib / Seaborn**（數據視覺化）\n",
        "- **SciPy統計檢定**（t-test、卡方檢定）\n",
        "\n",
        "### 數據處理\n",
        "1. 檢查缺值：age、embarked 欄位有少量缺失；\n",
        "\n",
        "\n",
        "2. 對 age 欄位以中位數填補：\n",
        "\n",
        "\n",
        "```\n",
        "titanic[\"age\"].fillna(titanic[\"age\"].median(), inplace=True)\n",
        "```\n",
        "\n",
        "\n",
        "\n",
        "3. 將 pclass 轉為類別型並命名為 First/Second/Third；\n",
        "\n",
        "4. 如需年齡群分析，可再依據年齡分桶（例如兒童 < 18、成人 18–60、高齡 ≥ 60）。"
      ],
      "metadata": {
        "id": "4qs1N4JYcoKB"
      }
    },
    {
      "cell_type": "code",
      "source": [
        "import seaborn as sns\n",
        "import pandas as pd\n",
        "import matplotlib.pyplot as plt\n",
        "\n",
        "# 載入數據集\n",
        "titanic = sns.load_dataset(\"titanic\")\n",
        "\n",
        "# 顯示數據的前五筆\n",
        "print(titanic.head())\n",
        "\n",
        "# 顯示數據基本資訊\n",
        "titanic.info()\n",
        "\n",
        "titanic[\"age\"].fillna(titanic[\"age\"].median(), inplace=True)"
      ],
      "metadata": {
        "colab": {
          "base_uri": "https://localhost:8080/"
        },
        "id": "4SVL-EFec0iE",
        "outputId": "da67b43a-54df-408e-90ab-d96cd305fd03"
      },
      "execution_count": null,
      "outputs": [
        {
          "output_type": "stream",
          "name": "stdout",
          "text": [
            "   survived  pclass     sex   age  sibsp  parch     fare embarked  class  \\\n",
            "0         0       3    male  22.0      1      0   7.2500        S  Third   \n",
            "1         1       1  female  38.0      1      0  71.2833        C  First   \n",
            "2         1       3  female  26.0      0      0   7.9250        S  Third   \n",
            "3         1       1  female  35.0      1      0  53.1000        S  First   \n",
            "4         0       3    male  35.0      0      0   8.0500        S  Third   \n",
            "\n",
            "     who  adult_male deck  embark_town alive  alone  \n",
            "0    man        True  NaN  Southampton    no  False  \n",
            "1  woman       False    C    Cherbourg   yes  False  \n",
            "2  woman       False  NaN  Southampton   yes   True  \n",
            "3  woman       False    C  Southampton   yes  False  \n",
            "4    man        True  NaN  Southampton    no   True  \n",
            "<class 'pandas.core.frame.DataFrame'>\n",
            "RangeIndex: 891 entries, 0 to 890\n",
            "Data columns (total 15 columns):\n",
            " #   Column       Non-Null Count  Dtype   \n",
            "---  ------       --------------  -----   \n",
            " 0   survived     891 non-null    int64   \n",
            " 1   pclass       891 non-null    int64   \n",
            " 2   sex          891 non-null    object  \n",
            " 3   age          714 non-null    float64 \n",
            " 4   sibsp        891 non-null    int64   \n",
            " 5   parch        891 non-null    int64   \n",
            " 6   fare         891 non-null    float64 \n",
            " 7   embarked     889 non-null    object  \n",
            " 8   class        891 non-null    category\n",
            " 9   who          891 non-null    object  \n",
            " 10  adult_male   891 non-null    bool    \n",
            " 11  deck         203 non-null    category\n",
            " 12  embark_town  889 non-null    object  \n",
            " 13  alive        891 non-null    object  \n",
            " 14  alone        891 non-null    bool    \n",
            "dtypes: bool(2), category(2), float64(2), int64(4), object(5)\n",
            "memory usage: 80.7+ KB\n"
          ]
        },
        {
          "output_type": "stream",
          "name": "stderr",
          "text": [
            "<ipython-input-3-3462383895>:14: FutureWarning: A value is trying to be set on a copy of a DataFrame or Series through chained assignment using an inplace method.\n",
            "The behavior will change in pandas 3.0. This inplace method will never work because the intermediate object on which we are setting values always behaves as a copy.\n",
            "\n",
            "For example, when doing 'df[col].method(value, inplace=True)', try using 'df.method({col: value}, inplace=True)' or df[col] = df[col].method(value) instead, to perform the operation inplace on the original object.\n",
            "\n",
            "\n",
            "  titanic[\"age\"].fillna(titanic[\"age\"].median(), inplace=True)\n"
          ]
        }
      ]
    },
    {
      "cell_type": "code",
      "source": [],
      "metadata": {
        "id": "hU8NY0jK0AKS"
      },
      "execution_count": null,
      "outputs": []
    },
    {
      "cell_type": "markdown",
      "source": [
        "## 結果與分析"
      ],
      "metadata": {
        "id": "QGzmPhkGc4ZV"
      }
    },
    {
      "cell_type": "markdown",
      "source": [
        "### 艙等與存活率\n"
      ],
      "metadata": {
        "id": "Hac6duwbc_-t"
      }
    },
    {
      "cell_type": "code",
      "source": [
        "import matplotlib.pyplot as plt\n",
        "import seaborn as sns\n",
        "\n",
        "sns.barplot(x=\"pclass\", y=\"survived\", data=titanic)\n",
        "plt.title(\"Survival Rate by Passenger Class\")\n",
        "plt.xlabel(\"Passenger Class\")\n",
        "plt.ylabel(\"Survival Rate\")\n",
        "plt.show()\n"
      ],
      "metadata": {
        "colab": {
          "base_uri": "https://localhost:8080/",
          "height": 472
        },
        "id": "sOBzU03zdDfm",
        "outputId": "73385576-b2c1-490d-9eb4-242fa304c57f"
      },
      "execution_count": null,
      "outputs": [
        {
          "output_type": "display_data",
          "data": {
            "text/plain": [
              "<Figure size 640x480 with 1 Axes>"
            ],
            "image/png": "[encoded data removed]"
          },
          "metadata": {}
        }
      ]
    },
    {
      "cell_type": "markdown",
      "source": [
        "**分析結果**：\n",
        "- 存活率依序為 First ≈ 62%，Second ≈ 48%，Third ≈ 24%。\n",
        "\n",
        "- 解讀：乘客等級越高，獲救機會越大；第三等艙乘客存活率明顯偏低。"
      ],
      "metadata": {
        "id": "mX_2Z7qAdHhh"
      }
    },
    {
      "cell_type": "markdown",
      "source": [
        "### 性別與存活率"
      ],
      "metadata": {
        "id": "te_Ijnr-dWlX"
      }
    },
    {
      "cell_type": "code",
      "source": [
        "\n",
        "sns.barplot(x=\"sex\", y=\"survived\", data=titanic)\n",
        "plt.title(\"Survival Rate by Gender\")\n",
        "plt.xlabel(\"Gender\")\n",
        "plt.ylabel(\"Survival Rate\")\n",
        "plt.show()"
      ],
      "metadata": {
        "colab": {
          "base_uri": "https://localhost:8080/",
          "height": 472
        },
        "id": "3XvspPHvdg0k",
        "outputId": "2ed489d4-4d87-4b2a-8d6c-f07da63420d2"
      },
      "execution_count": null,
      "outputs": [
        {
          "output_type": "display_data",
          "data": {
            "text/plain": [
              "<Figure size 640x480 with 1 Axes>"
            ],
            "image/png": "[encoded data removed]"
          },
          "metadata": {}
        }
      ]
    },
    {
      "cell_type": "markdown",
      "source": [
        "**分析結果**：\n",
        "- 女性存活率約 75%，男性僅約 20%。\n",
        "\n",
        "- 解讀：顯著印證「婦女優先」的敘事。"
      ],
      "metadata": {
        "id": "59kCGRHVdpen"
      }
    },
    {
      "cell_type": "markdown",
      "source": [
        "### 年齡分佈與存活率"
      ],
      "metadata": {
        "id": "l658_wD4dtKi"
      }
    },
    {
      "cell_type": "code",
      "source": [
        "# 兒童 <18、成人 18–60、高齡 ≥60\n",
        "bins = [0,18,60,100]\n",
        "labels = [\"Child\",\"Adult\",\"Senior\"]\n",
        "titanic[\"age_group\"] = pd.cut(titanic[\"age\"], bins=bins, labels=labels)\n",
        "\n",
        "sns.barplot(x=\"age_group\", y=\"survived\", data=titanic)\n",
        "plt.title(\"Survival Rate by Age Group\")\n",
        "plt.xlabel(\"Age Group\")\n",
        "plt.ylabel(\"Survival Rate\")\n",
        "plt.show()\n"
      ],
      "metadata": {
        "colab": {
          "base_uri": "https://localhost:8080/",
          "height": 472
        },
        "id": "QUo5Ghl_dvh9",
        "outputId": "3638ec39-36c7-4957-9b2b-1ea924d6f584"
      },
      "execution_count": null,
      "outputs": [
        {
          "output_type": "display_data",
          "data": {
            "text/plain": [
              "<Figure size 640x480 with 1 Axes>"
            ],
            "image/png": "[encoded data removed]"
          },
          "metadata": {}
        }
      ]
    },
    {
      "cell_type": "markdown",
      "source": [
        "**分析結果**：\n",
        "- 兒童存活率約 54%，成人約 38%，高齡族群約 27%。\n",
        "\n",
        "- 解讀：兒童獲救比例確實高於整體平均，但成人與高齡差異不大。"
      ],
      "metadata": {
        "id": "9tDsprEvd4qd"
      }
    },
    {
      "cell_type": "markdown",
      "source": [
        "## 結論與建議"
      ],
      "metadata": {
        "id": "Cm8kUUS_d-mv"
      }
    },
    {
      "cell_type": "markdown",
      "source": [
        "\n",
        "### 結論\n",
        "1. 艙等影響最大：First > Second > Third，顯示階級在災難逃生中扮演關鍵角色。\n",
        "\n",
        "2. 性別差異明顯：女性存活率遠高於男性，呼應史書「婦女小孩優先」政策。\n",
        "\n",
        "3. 兒童保護有效：雖非最高，但兒童存活率高於成人與高齡。\n",
        "\n",
        "### 建議\n",
        "1. 歷史研究：可進一步納入 fare、embarked、sibsp、parch 等變項，探討更多社會經濟因素。\n",
        "\n",
        "2. 現代災難應變：在規劃疏散流程時，應保障弱勢（兒童、高齡、女性）優先撤離。\n",
        "\n",
        "3. 後續延伸：結合其他海難或空難資料集，比較不同事件中「婦幼優先」政策的真實效用。\n",
        "\n",
        "\n"
      ],
      "metadata": {
        "id": "dA5NgyNXbwXM"
      }
    },
    {
      "cell_type": "code",
      "execution_count": null,
      "metadata": {
        "id": "GZi83sC2bsE_"
      },
      "outputs": [],
      "source": []
    }
  ]
}