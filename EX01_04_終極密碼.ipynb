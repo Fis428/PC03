{
  "nbformat": 4,
  "nbformat_minor": 0,
  "metadata": {
    "colab": {
      "provenance": [],
      "authorship_tag": "ABX9TyNXdboJnOX1PUnenjBnQlEQ",
      "include_colab_link": true
    },
    "kernelspec": {
      "name": "python3",
      "display_name": "Python 3"
    },
    "language_info": {
      "name": "python"
    }
  },
  "cells": [
    {
      "cell_type": "markdown",
      "metadata": {
        "id": "view-in-github",
        "colab_type": "text"
      },
      "source": [
        "<a href=\"https://colab.research.google.com/github/Fis428/PC03/blob/main/EX01_04_%E7%B5%82%E6%A5%B5%E5%AF%86%E7%A2%BC.ipynb\" target=\"_parent\"><img src=\"https://colab.research.google.com/assets/colab-badge.svg\" alt=\"Open In Colab\"/></a>"
      ]
    },
    {
      "cell_type": "code",
      "source": [
        "import random\n",
        "\n",
        "def ultimate_password():\n",
        "    secret_number = random.randint(1, 99)  # 產生 1~99 的隨機數\n",
        "    lower_bound = 1\n",
        "    upper_bound = 99\n",
        "\n",
        "    while True:\n",
        "        try:\n",
        "            guess = int(input(f'請輸入 {lower_bound} ~ {upper_bound} 之間的數字: '))\n",
        "\n",
        "            if guess < lower_bound or guess > upper_bound:\n",
        "                print('超出範圍，請重新輸入！')\n",
        "                continue\n",
        "\n",
        "            if guess == secret_number:\n",
        "                print(f'恭喜你猜中了！數字是 {secret_number}！')\n",
        "                break\n",
        "            elif guess < secret_number:\n",
        "                lower_bound = guess + 1  # 更新下界\n",
        "                print(f'再大一點！範圍縮小為 {lower_bound} ~ {upper_bound}')\n",
        "            else:\n",
        "                upper_bound = guess - 1  # 更新上界\n",
        "                print(f'再小一點！範圍縮小為 {lower_bound} ~ {upper_bound}')\n",
        "\n",
        "        except ValueError:\n",
        "            print('請輸入有效的數字！')\n",
        "\n",
        "if __name__ == \"__main__\":\n",
        "    ultimate_password()\n"
      ],
      "metadata": {
        "colab": {
          "base_uri": "https://localhost:8080/"
        },
        "id": "q4zDVclnp_pi",
        "outputId": "0ceccd3b-4b97-4155-d51c-c8dbd7cdf841"
      },
      "execution_count": 14,
      "outputs": [
        {
          "output_type": "stream",
          "name": "stdout",
          "text": [
            "請輸入 1 ~ 99 之間的數字: 50\n",
            "再大一點！範圍縮小為 51 ~ 99\n",
            "請輸入 51 ~ 99 之間的數字: 80\n",
            "再小一點！範圍縮小為 51 ~ 79\n",
            "請輸入 51 ~ 79 之間的數字: 66\n",
            "再小一點！範圍縮小為 51 ~ 65\n",
            "請輸入 51 ~ 65 之間的數字: 58\n",
            "再小一點！範圍縮小為 51 ~ 57\n",
            "請輸入 51 ~ 57 之間的數字: 55\n",
            "恭喜你猜中了！數字是 55！\n"
          ]
        }
      ]
    },
    {
      "cell_type": "markdown",
      "source": [
        "EX01-04 終極密碼\n",
        "\n",
        "程式自動產生一個1~99的亂數\n",
        "\n",
        "輸入猜測的數字\n",
        "\n",
        "如果輸入的數字超出範圍要顯示超出範圍\n",
        "\n",
        "如果沒猜中,程式提示縮小的範圍\n",
        "\n",
        "一直猜到猜中數字為止"
      ],
      "metadata": {
        "id": "165O6rjOmW-K"
      }
    },
    {
      "cell_type": "code",
      "source": [
        "#改良版本 一直猜數字有點煩 所以新增退出功能\n",
        "import random\n",
        "\n",
        "def ultimate_password():\n",
        "    \"\"\"\n",
        "    終極密碼遊戲：\n",
        "    1. 產生一個 1~99 之間的隨機數字。\n",
        "    2. 讓使用者不斷猜測數字，並提供範圍提示。\n",
        "    3. 如果輸入的數字超出範圍，提示重新輸入。\n",
        "    4. 記錄使用者的猜測次數。\n",
        "    5. 允許使用者輸入 'q' 退出遊戲。\n",
        "    \"\"\"\n",
        "    secret_number = random.randint(1, 99)  # 產生 1~99 的隨機數\n",
        "    lower_bound = 1  # 猜測範圍的下界\n",
        "    upper_bound = 99  # 猜測範圍的上界\n",
        "    attempts = 0  # 記錄猜測次數\n",
        "\n",
        "    while True:\n",
        "        try:\n",
        "            # 提示使用者輸入數字或 'q' 來離開遊戲\n",
        "            guess = input(f'請輸入 {lower_bound} ~ {upper_bound} 之間的數字 (或輸入 \"q\" 離開): ')\n",
        "\n",
        "            # 允許使用者輸入 'q' 離開遊戲\n",
        "            if guess.lower() == 'q':\n",
        "                print(f'遊戲結束！正確答案是 {secret_number}。')\n",
        "                break\n",
        "\n",
        "            guess = int(guess)  # 轉換輸入為整數\n",
        "            attempts += 1  # 增加猜測次數\n",
        "\n",
        "            # 確保輸入數字在指定範圍內\n",
        "            if guess < lower_bound or guess > upper_bound:\n",
        "                print('超出範圍，請重新輸入！')\n",
        "                continue\n",
        "\n",
        "            # 檢查是否猜中數字\n",
        "            if guess == secret_number:\n",
        "                print(f'恭喜你猜中了！數字是 {secret_number}！總共猜測了 {attempts} 次。')\n",
        "                break\n",
        "            elif guess < secret_number:\n",
        "                lower_bound = guess + 1  # 更新下界\n",
        "                print(f'再大一點！範圍縮小為 {lower_bound} ~ {upper_bound}')\n",
        "            else:\n",
        "                upper_bound = guess - 1  # 更新上界\n",
        "                print(f'再小一點！範圍縮小為 {lower_bound} ~ {upper_bound}')\n",
        "\n",
        "        except ValueError:\n",
        "            # 捕捉非數字輸入的錯誤，提醒使用者重新輸入\n",
        "            print('請輸入有效的數字！')\n",
        "\n",
        "if __name__ == \"__main__\":\n",
        "    ultimate_password()"
      ],
      "metadata": {
        "colab": {
          "base_uri": "https://localhost:8080/"
        },
        "id": "z002wFWkqjho",
        "outputId": "b73d9f34-639f-41d8-e005-c511d4414b67"
      },
      "execution_count": 13,
      "outputs": [
        {
          "output_type": "stream",
          "name": "stdout",
          "text": [
            "請輸入 1 ~ 99 之間的數字 (或輸入 \"q\" 離開): 55\n",
            "再小一點！範圍縮小為 1 ~ 54\n",
            "請輸入 1 ~ 54 之間的數字 (或輸入 \"q\" 離開): 33\n",
            "再大一點！範圍縮小為 34 ~ 54\n",
            "請輸入 34 ~ 54 之間的數字 (或輸入 \"q\" 離開): 40\n",
            "再大一點！範圍縮小為 41 ~ 54\n",
            "請輸入 41 ~ 54 之間的數字 (或輸入 \"q\" 離開): 46\n",
            "再小一點！範圍縮小為 41 ~ 45\n",
            "請輸入 41 ~ 45 之間的數字 (或輸入 \"q\" 離開): 43\n",
            "再大一點！範圍縮小為 44 ~ 45\n",
            "請輸入 44 ~ 45 之間的數字 (或輸入 \"q\" 離開): 43\n",
            "超出範圍，請重新輸入！\n",
            "請輸入 44 ~ 45 之間的數字 (或輸入 \"q\" 離開): 44\n",
            "再大一點！範圍縮小為 45 ~ 45\n",
            "請輸入 45 ~ 45 之間的數字 (或輸入 \"q\" 離開): 45\n",
            "恭喜你猜中了！數字是 45！總共猜測了 8 次。\n"
          ]
        }
      ]
    }
  ]
}