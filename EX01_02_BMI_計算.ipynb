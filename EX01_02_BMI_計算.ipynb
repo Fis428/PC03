{
  "nbformat": 4,
  "nbformat_minor": 0,
  "metadata": {
    "colab": {
      "provenance": [],
      "authorship_tag": "ABX9TyOfZ909jHIMLdXQqt65+/YH",
      "include_colab_link": true
    },
    "kernelspec": {
      "name": "python3",
      "display_name": "Python 3"
    },
    "language_info": {
      "name": "python"
    }
  },
  "cells": [
    {
      "cell_type": "markdown",
      "metadata": {
        "id": "view-in-github",
        "colab_type": "text"
      },
      "source": [
        "<a href=\"https://colab.research.google.com/github/Fis428/PC03/blob/main/EX01_02_BMI_%E8%A8%88%E7%AE%97.ipynb\" target=\"_parent\"><img src=\"https://colab.research.google.com/assets/colab-badge.svg\" alt=\"Open In Colab\"/></a>"
      ]
    },
    {
      "cell_type": "code",
      "execution_count": 2,
      "metadata": {
        "id": "7CV9O-nUaazC",
        "colab": {
          "base_uri": "https://localhost:8080/"
        },
        "outputId": "0c519849-8d54-4923-ce64-fc62593472e2"
      },
      "outputs": [
        {
          "output_type": "stream",
          "name": "stdout",
          "text": [
            "身高為= (cm)163\n",
            "體重為= (kg)66\n",
            "BMI為24.84\n"
          ]
        }
      ],
      "source": [
        "#讀取使用者輸入\n",
        "height=float(input('身高為= (cm)'))\n",
        "weight=float(input('體重為= (kg)'))\n",
        "#轉換輸入值\n",
        "height_m= height/100\n",
        "#計算BMI\n",
        "BMI= weight/height_m**2\n",
        "#美化輸出值\n",
        "BMI_round=round(BMI,2)\n",
        "print(f'BMI為{BMI_round}')"
      ]
    },
    {
      "cell_type": "code",
      "source": [
        "#縮減程式行數\n",
        "#讀取使用者輸入\n",
        "height=float(input('身高為= (cm)'))\n",
        "weight=float(input('體重為= (kg)'))\n",
        "#計算+輸出\n",
        "print(f'BMI為{round(weight/((height/100)**2),2)}')"
      ],
      "metadata": {
        "colab": {
          "base_uri": "https://localhost:8080/"
        },
        "id": "_AFkD5mLcE6K",
        "outputId": "425c2bd8-039e-45cc-d0e2-dacbdbaa5cec"
      },
      "execution_count": 3,
      "outputs": [
        {
          "output_type": "stream",
          "name": "stdout",
          "text": [
            "身高為= (cm)163\n",
            "體重為= (kg)66\n",
            "BMI為24.84\n"
          ]
        }
      ]
    }
  ]
}