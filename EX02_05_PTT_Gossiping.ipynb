{
  "nbformat": 4,
  "nbformat_minor": 0,
  "metadata": {
    "colab": {
      "provenance": [],
      "authorship_tag": "ABX9TyOBC3doZztHlzBA7Tb15sga",
      "include_colab_link": true
    },
    "kernelspec": {
      "name": "python3",
      "display_name": "Python 3"
    },
    "language_info": {
      "name": "python"
    }
  },
  "cells": [
    {
      "cell_type": "markdown",
      "metadata": {
        "id": "view-in-github",
        "colab_type": "text"
      },
      "source": [
        "<a href=\"https://colab.research.google.com/github/Fis428/PC03/blob/main/EX02_05_PTT_Gossiping.ipynb\" target=\"_parent\"><img src=\"https://colab.research.google.com/assets/colab-badge.svg\" alt=\"Open In Colab\"/></a>"
      ]
    },
    {
      "cell_type": "code",
      "source": [
        "import requests\n",
        "from bs4 import BeautifulSoup\n",
        "\n",
        "url = 'https://www.ptt.cc/bbs/Movie/index.html'\n",
        "response = requests.get(url)\n",
        "response.status_code\n"
      ],
      "metadata": {
        "colab": {
          "base_uri": "https://localhost:8080/"
        },
        "id": "PtnIXCJG-u--",
        "outputId": "fbd7b275-3d40-4985-8a6b-f7063675cf81"
      },
      "execution_count": 5,
      "outputs": [
        {
          "output_type": "execute_result",
          "data": {
            "text/plain": [
              "200"
            ]
          },
          "metadata": {},
          "execution_count": 5
        }
      ]
    },
    {
      "cell_type": "code",
      "source": [
        "soup = BeautifulSoup(response.text, 'lxml')\n",
        "soup.title\n"
      ],
      "metadata": {
        "colab": {
          "base_uri": "https://localhost:8080/"
        },
        "id": "VF6_baFW-yT4",
        "outputId": "255e86a1-73d8-41d6-d84f-8f9fc34b7734"
      },
      "execution_count": 6,
      "outputs": [
        {
          "output_type": "execute_result",
          "data": {
            "text/plain": [
              "<title>看板 movie 文章列表 - 批踢踢實業坊</title>"
            ]
          },
          "metadata": {},
          "execution_count": 6
        }
      ]
    },
    {
      "cell_type": "code",
      "source": [
        "for atcl in soup.find_all('div', class_='r-ent'):\n",
        "    title_div = atcl.find('div', class_='title')\n",
        "    if title_div and title_div.a:  # 檢查 title_div 和 a 標籤是否存在\n",
        "        ttle = title_div.a.text\n",
        "        href = 'https://www.ptt.cc' + title_div.a.get('href')\n",
        "    else:\n",
        "        ttle = title_div.text.strip() if title_div else ''  # 如果 title_div 存在则取其文本，否则为空字符串\n",
        "        href = ''\n",
        "    date = atcl.find('div', class_='date').text\n",
        "    print(date, href, ttle)"
      ],
      "metadata": {
        "colab": {
          "base_uri": "https://localhost:8080/"
        },
        "id": "xfZhd29m-0Uz",
        "outputId": "c24963b7-94d2-4916-9632-8f0d8245ab5c"
      },
      "execution_count": 21,
      "outputs": [
        {
          "output_type": "stream",
          "name": "stdout",
          "text": [
            " 4/06 https://www.ptt.cc/bbs/movie/M.1743947111.A.CCD.html [問片] 有人知道這部嗎？很好看\n",
            " 4/06 https://www.ptt.cc/bbs/movie/M.1743948435.A.5A0.html [新聞] 現象級動畫《膽大黨：邪視》5月底啟動\n",
            " 4/06 https://www.ptt.cc/bbs/movie/M.1743948546.A.F17.html [普雷]耿軍作品《漂亮朋友》：偷偷 \n",
            " 4/06 https://www.ptt.cc/bbs/movie/M.1743948771.A.FFE.html [好好普雷] 金牌特務/我在平行時空戀上你/型男\n",
            " 4/06 https://www.ptt.cc/bbs/movie/M.1743949586.A.15A.html [心得] 方基墨與《捍衛戰士》的兩三事\n",
            " 4/06 https://www.ptt.cc/bbs/movie/M.1743951634.A.0DF.html [情報] 4/6 當週14部新片預告+Youtube觀看排行\n",
            " 4/06 https://www.ptt.cc/bbs/movie/M.1743954609.A.BC7.html Re: [贈票] 【366日】威秀影城兌換票券(贈票名單)\n",
            " 4/06 https://www.ptt.cc/bbs/movie/M.1743955145.A.CEF.html [好雷] 怪物\n",
            " 4/07 https://www.ptt.cc/bbs/movie/M.1743957953.A.78A.html [問片] 鋼繩把人切成1/2\n",
            " 4/07 https://www.ptt.cc/bbs/movie/M.1743959280.A.280.html [討論] 嚇破膽 佛里曼到底是幹嘛的？\n",
            " 4/07 https://www.ptt.cc/bbs/movie/M.1743960735.A.AA1.html [新聞] 麥塊電影首周全球3億美元，白雪累積1.6億\n",
            " 4/07 https://www.ptt.cc/bbs/movie/M.1743970517.A.661.html [新聞] BB鳥的大野狼要出電影了\n",
            " 4/07 https://www.ptt.cc/bbs/movie/M.1743990137.A.037.html [討論] 想請問什麼叫擦邊球易引戰？\n",
            " 4/07 https://www.ptt.cc/bbs/movie/M.1744001768.A.EEF.html [新聞] 《哥吉拉與金剛：新帝國》續集開拍 主演\n",
            " 4/07  (本文已被刪除) [resolver]\n",
            " 9/04 https://www.ptt.cc/bbs/movie/M.1630756788.A.1FE.html [公告] 電影板板規 2022/12/5\n",
            " 9/15 https://www.ptt.cc/bbs/movie/M.1694784041.A.89F.html [公告] 禁政治版規 及 投票結果\n"
          ]
        }
      ]
    },
    {
      "cell_type": "code",
      "source": [
        "'http://www.ptt.cc' + soup.find_all('a', class_='btn wide')[1].get('href')\n"
      ],
      "metadata": {
        "colab": {
          "base_uri": "https://localhost:8080/",
          "height": 35
        },
        "id": "rY_Ykx5d-4DK",
        "outputId": "4f6f5e27-f123-4558-c889-0b7445af2fbf"
      },
      "execution_count": 8,
      "outputs": [
        {
          "output_type": "execute_result",
          "data": {
            "text/plain": [
              "'http://www.ptt.cc/bbs/movie/index10554.html'"
            ],
            "application/vnd.google.colaboratory.intrinsic+json": {
              "type": "string"
            }
          },
          "metadata": {},
          "execution_count": 8
        }
      ]
    },
    {
      "cell_type": "code",
      "source": [
        "#電影版\n",
        "def get_articles(url):\n",
        "    response = requests.get(url)\n",
        "    soup = BeautifulSoup(response.text, 'lxml')\n",
        "    for atcl in soup.find_all('div', class_='r-ent'):\n",
        "        if atcl.find('div', class_='title').a:\n",
        "            title = atcl.find('div', class_='title').a.text\n",
        "            href = 'https://www.ptt.cc' + atcl.find('div', class_='title').a.get('href')\n",
        "        else:\n",
        "            title = atcl.find('div', class_='title').text.strip()\n",
        "            href = ''\n",
        "        date = atcl.find('div', class_='date').text\n",
        "        print(date, href, title)\n",
        "\n",
        "    btns = soup.find_all('a', class_='btn wide')\n",
        "    if len(btns) >= 2:\n",
        "        url = 'https://www.ptt.cc' + btns[1].get('href')\n",
        "        return url\n",
        "    else:\n",
        "        print(\"找不到上一頁按鈕，結束抓取！\")\n",
        "        return None\n",
        "\n",
        "url = 'https://www.ptt.cc/bbs/Movie/index.html'\n",
        "for i in range(5):\n",
        "    url = get_articles(url)\n",
        "    if url is None:\n",
        "        break\n"
      ],
      "metadata": {
        "colab": {
          "base_uri": "https://localhost:8080/"
        },
        "id": "JiZIR7y8-_sp",
        "outputId": "d6a38800-ed34-476c-d6f0-657bb053f216"
      },
      "execution_count": 23,
      "outputs": [
        {
          "output_type": "stream",
          "name": "stdout",
          "text": [
            " 4/06 https://www.ptt.cc/bbs/movie/M.1743947111.A.CCD.html [問片] 有人知道這部嗎？很好看\n",
            " 4/06 https://www.ptt.cc/bbs/movie/M.1743948435.A.5A0.html [新聞] 現象級動畫《膽大黨：邪視》5月底啟動\n",
            " 4/06 https://www.ptt.cc/bbs/movie/M.1743948546.A.F17.html [普雷]耿軍作品《漂亮朋友》：偷偷 \n",
            " 4/06 https://www.ptt.cc/bbs/movie/M.1743948771.A.FFE.html [好好普雷] 金牌特務/我在平行時空戀上你/型男\n",
            " 4/06 https://www.ptt.cc/bbs/movie/M.1743949586.A.15A.html [心得] 方基墨與《捍衛戰士》的兩三事\n",
            " 4/06 https://www.ptt.cc/bbs/movie/M.1743951634.A.0DF.html [情報] 4/6 當週14部新片預告+Youtube觀看排行\n",
            " 4/06 https://www.ptt.cc/bbs/movie/M.1743954609.A.BC7.html Re: [贈票] 【366日】威秀影城兌換票券(贈票名單)\n",
            " 4/06 https://www.ptt.cc/bbs/movie/M.1743955145.A.CEF.html [好雷] 怪物\n",
            " 4/07 https://www.ptt.cc/bbs/movie/M.1743957953.A.78A.html [問片] 鋼繩把人切成1/2\n",
            " 4/07 https://www.ptt.cc/bbs/movie/M.1743959280.A.280.html [討論] 嚇破膽 佛里曼到底是幹嘛的？\n",
            " 4/07 https://www.ptt.cc/bbs/movie/M.1743960735.A.AA1.html [新聞] 麥塊電影首周全球3億美元，白雪累積1.6億\n",
            " 4/07 https://www.ptt.cc/bbs/movie/M.1743970517.A.661.html [新聞] BB鳥的大野狼要出電影了\n",
            " 4/07 https://www.ptt.cc/bbs/movie/M.1743990137.A.037.html [討論] 想請問什麼叫擦邊球易引戰？\n",
            " 4/07 https://www.ptt.cc/bbs/movie/M.1744001768.A.EEF.html [新聞] 《哥吉拉與金剛：新帝國》續集開拍 主演\n",
            " 4/07  (本文已被刪除) [resolver]\n",
            " 9/04 https://www.ptt.cc/bbs/movie/M.1630756788.A.1FE.html [公告] 電影板板規 2022/12/5\n",
            " 9/15 https://www.ptt.cc/bbs/movie/M.1694784041.A.89F.html [公告] 禁政治版規 及 投票結果\n",
            " 4/05 https://www.ptt.cc/bbs/movie/M.1743852678.A.02A.html [討論] 美國隊長在復4電梯如果對光頭吹氣會?\n",
            " 4/05 https://www.ptt.cc/bbs/movie/M.1743858790.A.E09.html [好微雷] 366日:沖繩推廣好片\n",
            " 4/05 https://www.ptt.cc/bbs/movie/M.1743867193.A.D6B.html [新聞] 《飢餓遊戲》第二部外傳「少年版黑密契」\n",
            " 4/05 https://www.ptt.cc/bbs/movie/M.1743867282.A.37D.html [新聞] 阿湯哥期待新片《F1》大讚小布駕駛技術：\n",
            " 4/06 https://www.ptt.cc/bbs/movie/M.1743870684.A.97D.html [新聞] 創:戰神 Tron: Ares首支預告片\n",
            " 4/06 https://www.ptt.cc/bbs/movie/M.1743875519.A.E58.html [討論] 漫威製片證實「驚奇少女」很快就有回歸計\n",
            " 4/06 https://www.ptt.cc/bbs/movie/M.1743876234.A.5EB.html [討論] 電影展(Cinemacon)記者心得:今年漫威無聊\n",
            " 4/06  (擦邊球 易引戰) <tuboshu>\n",
            " 4/06 https://www.ptt.cc/bbs/movie/M.1743916714.A.CAA.html [公告] 水桶 刪文\n",
            " 4/06 https://www.ptt.cc/bbs/movie/M.1743920249.A.487.html [負雷] 麥塊 沒邏輯+太兒童化\n",
            " 4/06 https://www.ptt.cc/bbs/movie/M.1743923635.A.9FF.html [討論] 怪獸與鄧不利多的秘密 結尾詢問\n",
            " 4/06 https://www.ptt.cc/bbs/movie/M.1743924998.A.C4B.html [新聞] 迪士尼《白雪公主》恐賠1億！女主角招罵\n",
            " 4/06 https://www.ptt.cc/bbs/movie/M.1743925914.A.34D.html [請益] 九龍城寨 龍捲風髮廊問題\n",
            " 4/06 https://www.ptt.cc/bbs/movie/M.1743931200.A.E1F.html [好微雷] 366日：無論如何都該愛一場 \n",
            " 4/06 https://www.ptt.cc/bbs/movie/M.1743932129.A.A1F.html [贈票] 【366日】威秀影城兌換票券(申請截止)\n",
            " 4/06  (本文已被刪除) [XDGEE]\n",
            " 4/06 https://www.ptt.cc/bbs/movie/M.1743936008.A.211.html [新聞] 蓋瑞奇《威龍殺陣2》與傑克葛倫霍合作！\n",
            " 4/06 https://www.ptt.cc/bbs/movie/M.1743936139.A.054.html [新聞] 《驚奇隊長2》口碑暴死！導演感嘆電影被\n",
            " 4/06  (擦邊球 易引戰) <chataro>\n",
            " 4/06 https://www.ptt.cc/bbs/movie/M.1743942794.A.6B0.html [問片] 打槍子彈飛到天空，問個\n",
            " 4/04 https://www.ptt.cc/bbs/movie/M.1743736201.A.D5C.html [好無雷] 被告汪星人 動物行為學中的生命重量\n",
            " 4/04 https://www.ptt.cc/bbs/movie/M.1743742005.A.4AA.html Re: [大負雷]《灌籃高手》你要這樣還不如別出 \n",
            " 4/04 https://www.ptt.cc/bbs/movie/M.1743742809.A.E73.html Re: [ 好雷]  日片366日 主角不是渣男啊！\n",
            " 4/04 https://www.ptt.cc/bbs/movie/M.1743767593.A.3AE.html [新聞] 和蝙蝠俠《黑暗騎士》撞片名！導演不甩華\n",
            " 4/04 https://www.ptt.cc/bbs/movie/M.1743767679.A.1CB.html [新聞] 迪士尼緊急中止製作《魔髮奇緣》真人版！\n",
            " 4/04 https://www.ptt.cc/bbs/movie/M.1743781855.A.61F.html [討論] 無法理解為何高分的電影？\n",
            " 4/05 https://www.ptt.cc/bbs/movie/M.1743783107.A.DCE.html [好雷] 電影版孤獨的美食家\n",
            " 4/05 https://www.ptt.cc/bbs/movie/M.1743785103.A.F4F.html Re: [討論] 無法理解為何高分的電影？\n",
            " 4/05 https://www.ptt.cc/bbs/movie/M.1743786935.A.62A.html [普雷] 追殺比爾之我錯怪比爾了\n",
            " 4/05 https://www.ptt.cc/bbs/movie/M.1743794421.A.60D.html [新聞] 《拍射吧！廷方！》台AV女優爆拍完國片順\n",
            " 4/05 https://www.ptt.cc/bbs/movie/M.1743812705.A.B06.html [新聞] 湯姆克魯斯公開悼念《捍衛戰士》老搭檔\n",
            " 4/05 https://www.ptt.cc/bbs/movie/M.1743819824.A.BD8.html [問片] 從演員找影片\n",
            " 4/05 https://www.ptt.cc/bbs/movie/M.1743827721.A.E90.html [片單] 深夜守則之類的電影？\n",
            " 4/05 https://www.ptt.cc/bbs/movie/M.1743830644.A.C13.html [普負雷] 黑袋行動\n",
            " 4/05 https://www.ptt.cc/bbs/movie/M.1743832784.A.92D.html [請益] 近15年內,菸霧繚繞的電影？\n",
            " 4/05 https://www.ptt.cc/bbs/movie/M.1743835012.A.F21.html [好雷] 我在平行時空戀上妳\n",
            " 4/05 https://www.ptt.cc/bbs/movie/M.1743836105.A.7DB.html [新聞] 英國演員羅素布蘭德被指控性侵多女\n",
            " 4/05 https://www.ptt.cc/bbs/movie/M.1743838583.A.6A2.html Re: [大負雷]《灌籃高手》你要這樣還不如別出 \n",
            " 4/05 https://www.ptt.cc/bbs/movie/M.1743840817.A.2F1.html ［問題］非普通家族的鋪陳？\n",
            " 4/05 https://www.ptt.cc/bbs/movie/M.1743843750.A.14A.html [LIVE] HBO 22:00 微笑 2\n",
            " 4/03 https://www.ptt.cc/bbs/movie/M.1743677078.A.669.html [超好雷] 我依然在此 Ainda Estou Aqui\n",
            " 4/03 https://www.ptt.cc/bbs/movie/M.1743683207.A.34E.html [好雷] 分居風暴\n",
            " 4/03 https://www.ptt.cc/bbs/movie/M.1743690224.A.1AC.html [討論] 刺激1995的字幕翻譯\n",
            " 4/03 https://www.ptt.cc/bbs/movie/M.1743690551.A.95A.html [討論] 會計師2 第二支預告 爛番茄84%\n",
            " 4/03 https://www.ptt.cc/bbs/movie/M.1743690861.A.987.html [閒聊] 白雪公主三級片評分比迪士尼高3倍...\n",
            " 4/03 https://www.ptt.cc/bbs/movie/M.1743691599.A.B44.html [負雷] 山中森林\n",
            " 4/03 https://www.ptt.cc/bbs/movie/M.1743691829.A.8E7.html [新聞] 麥可傑克森傳記片「戀童指控劇情」刪掉！\n",
            " 4/03 https://www.ptt.cc/bbs/movie/M.1743691866.A.C11.html [新聞] 真人版《馴龍高手》外媒好評熱烈！選角完\n",
            " 4/03 https://www.ptt.cc/bbs/movie/M.1743693478.A.7A6.html [好雷] 我依然在此\n",
            " 4/03 https://www.ptt.cc/bbs/movie/M.1743693770.A.7FE.html [情報] 窒友梅根2.0最新官方預告，全台6/27上映\n",
            " 4/03 https://www.ptt.cc/bbs/movie/M.1743695622.A.5C2.html [ 好雷]  日片366日 主角不是渣男啊！\n",
            " 4/04 https://www.ptt.cc/bbs/movie/M.1743701315.A.5C3.html [討論] 連恩尼遜變蘿莉「脫線神探」預告\n",
            " 4/04 https://www.ptt.cc/bbs/movie/M.1743701364.A.93E.html [討論] 關於《白頭神探》三部曲與凋零的惡搞喜劇\n",
            " 4/04 https://www.ptt.cc/bbs/movie/M.1743702507.A.556.html [好雷] 四月，她將到來\n",
            " 4/04 https://www.ptt.cc/bbs/movie/M.1743704251.A.E72.html [討論] 班史提勒證實「藍鋼」是改編自皮爾斯007\n",
            " 4/04 https://www.ptt.cc/bbs/movie/M.1743706755.A.2BB.html [好雷] 黛瑪:阿罵版「蜂刑者」教訓詐騙集團\n",
            " 4/04 https://www.ptt.cc/bbs/movie/M.1743717777.A.07E.html [新聞] 《膽大黨：邪視》 5月30日晚場起全台上映\n",
            " 4/04 https://www.ptt.cc/bbs/movie/M.1743717825.A.141.html [情報] 《超人 Superman》 新預告\n",
            " 4/04 https://www.ptt.cc/bbs/movie/M.1743732661.A.405.html [情報] 《魔髮奇緣》真人版企劃暫時擱置\n",
            " 4/04 https://www.ptt.cc/bbs/movie/M.1743736147.A.892.html Re: [討論] 會計師2 第二支預告 爛番茄84%\n",
            "找不到上一頁按鈕，結束抓取！\n"
          ]
        }
      ]
    },
    {
      "cell_type": "code",
      "source": [
        "#美食版五頁\n",
        "def get_articles(url):\n",
        "    response = requests.get(url)\n",
        "    soup = BeautifulSoup(response.text, 'lxml')\n",
        "    for atcl in soup.find_all('div', class_='r-ent'):\n",
        "        if atcl.find('div', class_='title').a:\n",
        "            title = atcl.find('div', class_='title').a.text\n",
        "            href = 'https://www.ptt.cc' + atcl.find('div', class_='title').a.get('href')\n",
        "        else:\n",
        "            title = atcl.find('div', class_='title').text.strip()\n",
        "            href = ''\n",
        "        date = atcl.find('div', class_='date').text\n",
        "        print(date, href, title)\n",
        "\n",
        "    btns = soup.find_all('a', class_='btn wide')\n",
        "    if len(btns) >= 2:\n",
        "        url = 'https://www.ptt.cc' + btns[1].get('href')\n",
        "        return url\n",
        "    else:\n",
        "        print(\"找不到上一頁按鈕，結束抓取！\")\n",
        "        return None\n",
        "\n",
        "url = 'https://www.ptt.cc/bbs/Food/index.html'\n",
        "for i in range(5):\n",
        "    url = get_articles(url)\n",
        "    if url is None:\n",
        "        break\n"
      ],
      "metadata": {
        "colab": {
          "base_uri": "https://localhost:8080/"
        },
        "id": "9F6ErzO1_LDt",
        "outputId": "f1a036c9-651d-4d91-8c0a-7fd95b6a4392"
      },
      "execution_count": 24,
      "outputs": [
        {
          "output_type": "stream",
          "name": "stdout",
          "text": [
            " 4/06 https://www.ptt.cc/bbs/Food/M.1743915684.A.8F7.html [轉讓] 4/12（六）18:00 漢來島語 晚餐四位\n",
            " 4/06 https://www.ptt.cc/bbs/Food/M.1743917343.A.CD9.html [食記] 桃園中壢-小時厚牛排（中壢新生店）\n",
            " 4/06 https://www.ptt.cc/bbs/Food/M.1743920162.A.FF1.html [食記] 新竹小蒙牛吃飽|899元和牛海陸/哈根達斯\n",
            " 4/06 https://www.ptt.cc/bbs/Food/M.1743940942.A.7A0.html [食記] 虹橋機場SHA 東方航空 21米層貴賓室V21S 第二航廈\n",
            " 4/06 https://www.ptt.cc/bbs/Food/M.1743948818.A.098.html [食記] 宜蘭 柯氏蔥油餅 每次必來好好吃\n",
            " 4/06 https://www.ptt.cc/bbs/Food/M.1743949001.A.BA6.html [食記] 台北 BEPPIN PASTA EXPRESS\n",
            " 4/06 https://www.ptt.cc/bbs/Food/M.1743953569.A.B8E.html [食記] 金門縣金湖鎮-合泉購物中心\n",
            " 4/07 https://www.ptt.cc/bbs/Food/M.1743957392.A.345.html [食記] 法國尼斯 臺灣餐廳 Kooc Bao 刈包.炸豆腐\n",
            " 4/07 https://www.ptt.cc/bbs/Food/M.1743996835.A.AF8.html [食記] 大仁哥巡迴快閃桶仔雞\n",
            " 4/07 https://www.ptt.cc/bbs/Food/M.1743996857.A.AC9.html [食記] 中壢 清牛堂清燉紅燒牛肉麵\n",
            " 4/07 https://www.ptt.cc/bbs/Food/M.1744001377.A.2C6.html [食記] 蒲逸手工水餃 新北新莊 高麗菜及剝皮辣椒\n",
            " 4/07 https://www.ptt.cc/bbs/Food/M.1744003739.A.952.html [討論] 添好運最近出的新菜，有人吃過嗎？\n",
            "12/16 https://www.ptt.cc/bbs/Food/M.1355673582.A.5F7.html [公告] Food板 板規 V3.91\n",
            " 9/28 https://www.ptt.cc/bbs/Food/M.1190944426.A.E6C.html [公告] 發文請在標題加上地區及提供地址電話。^^\n",
            "10/01 https://www.ptt.cc/bbs/Food/M.1128132666.A.0FD.html [公告] 文章被刪除者請洽精華區的資源回收桶\n",
            " 6/04 https://www.ptt.cc/bbs/Food/M.1496532469.A.C36.html [公告] 新增板規22：發文禁附延伸閱讀連結\n",
            "找不到上一頁按鈕，結束抓取！\n"
          ]
        }
      ]
    },
    {
      "cell_type": "code",
      "source": [
        "#八卦版\n",
        "def get_articles(url, cookies=None):\n",
        "    response = requests.get(url, cookies=cookies)\n",
        "    soup = BeautifulSoup(response.text, 'lxml')\n",
        "    for atcl in soup.find_all('div', class_='r-ent'):\n",
        "        if atcl.find('div', class_='title').a:\n",
        "            title = atcl.find('div', class_='title').a.text\n",
        "            href = 'https://www.ptt.cc' + atcl.find('div', class_='title').a.get('href')\n",
        "        else:\n",
        "            title = atcl.find('div', class_='title').text.strip()\n",
        "            href = ''\n",
        "        date = atcl.find('div', class_='date').text\n",
        "        print(date, href, title)\n",
        "\n",
        "    btns = soup.find_all('a', class_='btn wide')\n",
        "    if len(btns) >= 2:\n",
        "        url = 'https://www.ptt.cc' + btns[1].get('href')\n",
        "        return url\n",
        "    else:\n",
        "        print(\"找不到上一頁按鈕，結束抓取！\")\n",
        "        return None\n",
        "\n",
        "url = 'https://www.ptt.cc/bbs/Gossiping/index.html'\n",
        "cookies = {'over18': '1'}\n",
        "for i in range(5):\n",
        "    url = get_articles(url, cookies=cookies)\n",
        "    if url is None:\n",
        "        break\n"
      ],
      "metadata": {
        "colab": {
          "base_uri": "https://localhost:8080/"
        },
        "id": "AMxT01A6_eis",
        "outputId": "f15d81f0-d8fb-49bb-80e2-92759eec12d0"
      },
      "execution_count": 25,
      "outputs": [
        {
          "output_type": "stream",
          "name": "stdout",
          "text": [
            " 4/07 https://www.ptt.cc/bbs/Gossiping/M.1744008264.A.1E5.html Re: [問卦] 如果所有國家聯合起來用賣美債來當籌碼？\n",
            " 4/07 https://www.ptt.cc/bbs/Gossiping/M.1744008278.A.C7B.html [問卦] 「不賣出股票，就不虧錢」能得什麼獎\n",
            " 4/07 https://www.ptt.cc/bbs/Gossiping/M.1744008300.A.5ED.html [問卦] 台股一萬九 同事臉色卻像家裡死人?\n",
            " 4/07 https://www.ptt.cc/bbs/Gossiping/M.1744008329.A.912.html [問卦] 股票怎麼不要等他漲回來了再賣\n",
            " 4/07 https://www.ptt.cc/bbs/Gossiping/M.1744008359.A.8E9.html [問卦] 對面女森好色歐 >///<\n",
            " 4/07 https://www.ptt.cc/bbs/Gossiping/M.1744008368.A.713.html [問卦] 有可能有未來人回到過去阻止世界毀滅嗎\n",
            " 4/07 https://www.ptt.cc/bbs/Gossiping/M.1744008389.A.CAC.html Re: [問卦] 現實生活有人意識到這比2008嚴重嗎？\n",
            " 4/07 https://www.ptt.cc/bbs/Gossiping/M.1744008390.A.821.html [問卦] 在台灣說到「草包」你第一個想到的會是？\n",
            " 4/07 https://www.ptt.cc/bbs/Gossiping/M.1744008390.A.EFB.html [問卦] 差不多要V了吧?\n",
            " 4/07 https://www.ptt.cc/bbs/Gossiping/M.1744008483.A.F85.html Re: [問卦] 誰是先知 高下立判了吧？\n",
            " 4/07 https://www.ptt.cc/bbs/Gossiping/M.1744008536.A.BA9.html Re: [新聞] 快訊／一開會就吵！柯建銘不滿政院安排\n",
            " 4/07 https://www.ptt.cc/bbs/Gossiping/M.1744008538.A.37B.html Re: [問卦] 華萊士要怎麼吃最划算\n",
            " 4/07 https://www.ptt.cc/bbs/Gossiping/M.1744008587.A.0BD.html [問卦] momo:公園朋友 我家紙箱很好用\n",
            " 4/07 https://www.ptt.cc/bbs/Gossiping/M.1744008613.A.0BB.html [問卦] 賴舔狗最後的結局是什麼？\n",
            " 4/07 https://www.ptt.cc/bbs/Gossiping/M.1744008641.A.22E.html [問卦] 美國推了台灣一把是吧?\n",
            " 4/07 https://www.ptt.cc/bbs/Gossiping/M.1744008676.A.450.html Re: [問卦] 國運籤的江水出現了那山是指什麼？\n",
            " 4/07 https://www.ptt.cc/bbs/Gossiping/M.1744008724.A.44F.html Re: [新聞] 金城武社交恐懼！神隱4年現身　男神引爆\n",
            " 4/07 https://www.ptt.cc/bbs/Gossiping/M.1744008742.A.FB8.html [問卦] 怎樣突破美國的地圖砲威脅？\n",
            " 4/07 https://www.ptt.cc/bbs/Gossiping/M.1744008787.A.673.html Re: [問卦] 新竹人是不是都政治冷感？\n",
            " 4/07 https://www.ptt.cc/bbs/Gossiping/M.1744008861.A.418.html [問卦] 0050還需要分割嗎？\n",
            "11/02 https://www.ptt.cc/bbs/Gossiping/M.1730554547.A.41C.html Fw: [公告] 請留意新註冊帳號使用信件詐騙\n",
            " 1/21 https://www.ptt.cc/bbs/Gossiping/M.1737398137.A.644.html [公告] 八卦板板規(2025.01.21)\n",
            " 3/12 https://www.ptt.cc/bbs/Gossiping/M.1741791500.A.EB6.html Fw: [公告] 請避免與登入1次之帳號進行交易 發錢\n",
            " 4/05 https://www.ptt.cc/bbs/Gossiping/M.1743833739.A.260.html [公告] 八卦板主投票請按V開始 &手機投票  \n",
            " 4/06 https://www.ptt.cc/bbs/Gossiping/M.1743920492.A.0DB.html [公告] 壹蘋未確實查證警告，禁發記者魏盈盈新聞\n",
            " 4/07 https://www.ptt.cc/bbs/Gossiping/M.1744007708.A.B0A.html Re: [新聞] 談判小組成立 賴清德喊免驚：台、美\n",
            " 4/07 https://www.ptt.cc/bbs/Gossiping/M.1744007711.A.720.html [新聞] 賴總統：百分之百言論自由 非利用自由消\n",
            " 4/07 https://www.ptt.cc/bbs/Gossiping/M.1744007717.A.FE2.html Re: [問卦] 一講到「臺灣阿斗」會想到誰？\n",
            " 4/07 https://www.ptt.cc/bbs/Gossiping/M.1744007720.A.196.html [新聞] 賴清德：鼓吹剝奪台灣人民自由、主張讓\n",
            " 4/07 https://www.ptt.cc/bbs/Gossiping/M.1744007756.A.16B.html [問卦] 華萊士要怎麼吃最划算\n",
            " 4/07 https://www.ptt.cc/bbs/Gossiping/M.1744007776.A.E16.html Re: [新聞] 快訊／一開會就吵！柯建銘不滿政院安排\n",
            " 4/07 https://www.ptt.cc/bbs/Gossiping/M.1744007849.A.946.html [問卦] 這碗70在台北吃得到嗎？\n",
            " 4/07 https://www.ptt.cc/bbs/Gossiping/M.1744007879.A.64B.html [問卦] 關稅戰再這樣下去2027預言是不是要成真？\n",
            " 4/07 https://www.ptt.cc/bbs/Gossiping/M.1744007896.A.A47.html [新聞] 金城武社交恐懼！神隱4年現身　男神引爆\n",
            " 4/07 https://www.ptt.cc/bbs/Gossiping/M.1744008017.A.A71.html Re: [問卦] 如果所有國家聯合起來用賣美債來當籌碼？\n",
            " 4/07 https://www.ptt.cc/bbs/Gossiping/M.1744008043.A.309.html [新聞] 「台積電越跌越要買」柯建銘挨轟　股民\n",
            " 4/07 https://www.ptt.cc/bbs/Gossiping/M.1744008067.A.12C.html [問卦] 這波下去會有人恨川普嗎？\n",
            " 4/07 https://www.ptt.cc/bbs/Gossiping/M.1744008099.A.F13.html [問卦] 台灣人提醒nordvpn別找錫蘭代言\n",
            " 4/07 https://www.ptt.cc/bbs/Gossiping/M.1744008147.A.283.html [問卦] 現實生活有人意識到這比2008嚴重嗎？\n",
            " 4/07 https://www.ptt.cc/bbs/Gossiping/M.1744008187.A.C3A.html [問卦] 物價會降嗎？\n",
            " 4/07 https://www.ptt.cc/bbs/Gossiping/M.1744008193.A.162.html [問卦] 主管開會說言論自由但不能亂說話八卦?\n",
            " 4/07 https://www.ptt.cc/bbs/Gossiping/M.1744008204.A.BAF.html [問卦] 台灣企業的勝利V老大是誰？\n",
            " 4/07 https://www.ptt.cc/bbs/Gossiping/M.1744008217.A.7D9.html [新聞] NCAA康乃狄克女籃奪校史第12冠 台裔球員\n",
            " 4/07 https://www.ptt.cc/bbs/Gossiping/M.1744008217.A.078.html Re: [問卦] 林青霞跟劉若英該怎麼選\n",
            " 4/07 https://www.ptt.cc/bbs/Gossiping/M.1744008233.A.D25.html [問卦] 詐騙是不是不用怕關稅?\n",
            " 4/07 https://www.ptt.cc/bbs/Gossiping/M.1744007085.A.EBC.html Re: [新聞] 川普再放話：美貿易逆差不消失「對等關稅\n",
            " 4/07 https://www.ptt.cc/bbs/Gossiping/M.1744007112.A.609.html [問卦] 日股跌7.29，韓股跌5.22，台股跌9.70\n",
            " 4/07 https://www.ptt.cc/bbs/Gossiping/M.1744007179.A.E01.html [問卦] 為什麼threads都知道我在想什麼\n",
            " 4/07 https://www.ptt.cc/bbs/Gossiping/M.1744007200.A.5A3.html [新聞] 應對美國關稅戰！韓國瑜明召開朝野協商　\n",
            " 4/07 https://www.ptt.cc/bbs/Gossiping/M.1744007226.A.B6D.html [新聞] 快訊／一開會就吵！柯建銘不滿政院安排\n",
            " 4/07  (已被黑絲青鳥刪除) <bustyma19> 政問\n",
            " 4/07 https://www.ptt.cc/bbs/Gossiping/M.1744007284.A.5FC.html [問卦] X（推特）外交有沒有搞頭\n",
            " 4/07 https://www.ptt.cc/bbs/Gossiping/M.1744007292.A.26B.html [問卦] 今天公園可以放音樂洗滌人心嗎QQ\n",
            " 4/07  (本文已被刪除) [LIN9]\n",
            " 4/07 https://www.ptt.cc/bbs/Gossiping/M.1744007407.A.590.html [問卦] 救命啊！電視壞掉啦\n",
            " 4/07 https://www.ptt.cc/bbs/Gossiping/M.1744007423.A.1DD.html [問卦] 大概跌多久會開始放無薪假？\n",
            " 4/07 https://www.ptt.cc/bbs/Gossiping/M.1744007434.A.DE8.html [問卦] 所以台積電跌到多少才合理?\n",
            " 4/07 https://www.ptt.cc/bbs/Gossiping/M.1744007444.A.D5E.html [問卦] 如果所有國家聯合起來用賣美債來當籌碼？\n",
            " 4/07 https://www.ptt.cc/bbs/Gossiping/M.1744007475.A.B0D.html [問卦] 台美關係這麼好怎今天會這樣？\n",
            " 4/07 https://www.ptt.cc/bbs/Gossiping/M.1744007495.A.BC9.html Re: [新聞] 川普再放話：美貿易逆差不消失「對等關稅\n",
            " 4/07 https://www.ptt.cc/bbs/Gossiping/M.1744007526.A.36E.html [問卦] 美國貿易逆差根本不可能解決吧？\n",
            " 4/07 https://www.ptt.cc/bbs/Gossiping/M.1744007570.A.375.html [問卦] 還沒開戰就這樣割了，開戰還會幫你？\n",
            " 4/07 https://www.ptt.cc/bbs/Gossiping/M.1744007612.A.2A1.html Re: [新聞] 鄭南榕殉道36週年 賴清德：團結台灣發揮\n",
            " 4/07 https://www.ptt.cc/bbs/Gossiping/M.1744007657.A.A2E.html [問卦] 賴是不是掛了…\n",
            " 4/07 https://www.ptt.cc/bbs/Gossiping/M.1744007681.A.716.html [新聞] 「關稅有時間解決、罷免只有一次機會」曹\n",
            " 4/07 https://www.ptt.cc/bbs/Gossiping/M.1744006606.A.E32.html [問卦] 股市崩完該換房市了吧？\n",
            " 4/07 https://www.ptt.cc/bbs/Gossiping/M.1744006654.A.711.html Re: [新聞] 股市重挫 川普：關稅是解決問題「良藥」\n",
            " 4/07 https://www.ptt.cc/bbs/Gossiping/M.1744006663.A.AAE.html [問卦] 急線上等！貓貓舌頭怎會這樣：（\n",
            " 4/07 https://www.ptt.cc/bbs/Gossiping/M.1744006694.A.290.html [新聞] 網紅Cheap批民代關說車禍大翻車？議員親\n",
            " 4/07 https://www.ptt.cc/bbs/Gossiping/M.1744006754.A.FD7.html Re: [爆卦] LIVE卓榮泰邀三黨黨團共商應對美國關稅\n",
            " 4/07 https://www.ptt.cc/bbs/Gossiping/M.1744006760.A.877.html Re: [新聞] 拋「開放陸客觀光」每年賺千億　趙少康\n",
            " 4/07 https://www.ptt.cc/bbs/Gossiping/M.1744006786.A.7CD.html Re: [問卦] 全世界都不出口 美國白豬能撐多久？\n",
            " 4/07 https://www.ptt.cc/bbs/Gossiping/M.1744006796.A.C63.html [問卦] 作業沒得抄的八卦\n",
            " 4/07 https://www.ptt.cc/bbs/Gossiping/M.1744006873.A.5EA.html [問卦] 龍巖是不是浮木？\n",
            " 4/07 https://www.ptt.cc/bbs/Gossiping/M.1744006879.A.00B.html Re: [問卦] 8年級生現在看來是不是最慘的族群？\n",
            " 4/07 https://www.ptt.cc/bbs/Gossiping/M.1744006882.A.7ED.html [問卦] 七年級是什麼很賤的人嗎？\n",
            " 4/07 https://www.ptt.cc/bbs/Gossiping/M.1744006887.A.3D7.html [問卦] 林青霞跟劉若英該怎麼選\n",
            " 4/07 https://www.ptt.cc/bbs/Gossiping/M.1744006942.A.BC4.html Re: [新聞] 賴清德X發文再向川普喊話「台灣不採報復\n",
            " 4/07 https://www.ptt.cc/bbs/Gossiping/M.1744006946.A.CC6.html [問卦] 今天大家都無視股票亮燈嗎？\n",
            " 4/07 https://www.ptt.cc/bbs/Gossiping/M.1744006984.A.217.html [問卦] 你各位！！ 本阿肥有救市妙計 \n",
            " 4/07 https://www.ptt.cc/bbs/Gossiping/M.1744006993.A.0EE.html [問卦] 錢是不是沒有不見 只是變台灣價值了？\n",
            " 4/07 https://www.ptt.cc/bbs/Gossiping/M.1744006996.A.4A3.html [問卦] 台灣可以別在當舔狗嗎？\n",
            " 4/07 https://www.ptt.cc/bbs/Gossiping/M.1744007021.A.365.html [問卦] 為什麼我們不提高關稅就好？\n",
            " 4/07 https://www.ptt.cc/bbs/Gossiping/M.1744007028.A.8F7.html Re: [新聞] 鄭南榕殉道36週年 賴清德：團結台灣\n",
            " 4/07 https://www.ptt.cc/bbs/Gossiping/M.1744007031.A.661.html [問卦] 大盤連跌停幾天可能？\n",
            " 4/07 https://www.ptt.cc/bbs/Gossiping/M.1744006018.A.E69.html [問卦] 接電話的人很不開心怎麼辦\n",
            " 4/07 https://www.ptt.cc/bbs/Gossiping/M.1744006059.A.B9F.html [新聞] 鄭南榕殉道36週年 賴清德：團結台灣發揮\n",
            " 4/07 https://www.ptt.cc/bbs/Gossiping/M.1744006061.A.5A4.html [問卦] 今天分析師要看哪一台\n",
            " 4/07 https://www.ptt.cc/bbs/Gossiping/M.1744006105.A.953.html [問卦] 台灣經濟崩盤完剩啥？\n",
            " 4/07 https://www.ptt.cc/bbs/Gossiping/M.1744006126.A.A54.html [問卦] 學荒野求生要看那個YTer \n",
            " 4/07 https://www.ptt.cc/bbs/Gossiping/M.1744006131.A.D63.html Re: [問卦] 乾脆直接把台灣奉上好了！？\n",
            " 4/07 https://www.ptt.cc/bbs/Gossiping/M.1744006172.A.A49.html [問卦] 股史2020 4/7\n",
            " 4/07 https://www.ptt.cc/bbs/Gossiping/M.1744006216.A.725.html [問卦] 一年前有預想到台積電會有這種光景嗎？\n",
            " 4/07 https://www.ptt.cc/bbs/Gossiping/M.1744006289.A.362.html Re: [問卦] 高雄楠梓球場斥資3.5億，不合國際賽事？\n",
            " 4/07 https://www.ptt.cc/bbs/Gossiping/M.1744006334.A.A78.html [問卦] 〓.〓 連賣都賣不掉好痛苦快哭了？！\n",
            " 4/07  (本文已被刪除) [fatjanice]\n",
            " 4/07 https://www.ptt.cc/bbs/Gossiping/M.1744006339.A.973.html [問卦] 巴菲特: 股災時買達美樂披薩較好？\n",
            " 4/07 https://www.ptt.cc/bbs/Gossiping/M.1744006410.A.8B1.html [新聞] 股市重挫 川普：關稅是解決問題「良藥」\n",
            " 4/07 https://www.ptt.cc/bbs/Gossiping/M.1744006448.A.95A.html [問卦] 在台灣焚燒美國國旗 會觸法嗎？\n",
            " 4/07 https://www.ptt.cc/bbs/Gossiping/M.1744006495.A.3BA.html [新聞] 川普再放話：美貿易逆差不消失「對等關稅\n",
            " 4/07 https://www.ptt.cc/bbs/Gossiping/M.1744006518.A.771.html [問卦] 不是直播嗎\n",
            " 4/07 https://www.ptt.cc/bbs/Gossiping/M.1744006539.A.447.html [問卦] 石明謹為何這次不敢評論足球場\n",
            " 4/07 https://www.ptt.cc/bbs/Gossiping/M.1744006583.A.F67.html [問卦] 33處男最多只能撐5根跌停剩下4根怎麼辦\n",
            " 4/07 https://www.ptt.cc/bbs/Gossiping/M.1744006584.A.726.html [新聞] 賴清德X發文再向川普喊話「台灣不採報復\n",
            " 4/07 https://www.ptt.cc/bbs/Gossiping/M.1744006588.A.1F6.html [問卦] 880元四菜一湯 是不是挺便宜\n"
          ]
        }
      ]
    }
  ]
}