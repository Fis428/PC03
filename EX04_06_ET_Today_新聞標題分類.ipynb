{
  "nbformat": 4,
  "nbformat_minor": 0,
  "metadata": {
    "colab": {
      "provenance": [],
      "authorship_tag": "ABX9TyN39CU0XXs1KthD2+DFYRsN",
      "include_colab_link": true
    },
    "kernelspec": {
      "name": "python3",
      "display_name": "Python 3"
    },
    "language_info": {
      "name": "python"
    }
  },
  "cells": [
    {
      "cell_type": "markdown",
      "metadata": {
        "id": "view-in-github",
        "colab_type": "text"
      },
      "source": [
        "<a href=\"https://colab.research.google.com/github/Fis428/PC03/blob/main/EX04_06_ET_Today_%E6%96%B0%E8%81%9E%E6%A8%99%E9%A1%8C%E5%88%86%E9%A1%9E.ipynb\" target=\"_parent\"><img src=\"https://colab.research.google.com/assets/colab-badge.svg\" alt=\"Open In Colab\"/></a>"
      ]
    },
    {
      "cell_type": "code",
      "execution_count": null,
      "metadata": {
        "colab": {
          "base_uri": "https://localhost:8080/"
        },
        "id": "WREomZwihV6L",
        "outputId": "fbdbfb2f-60ce-4a5b-c306-a78881095f6f"
      },
      "outputs": [
        {
          "output_type": "stream",
          "name": "stdout",
          "text": [
            "   類別                                   標題\n",
            "0  政治  青年座談不被AI取代的關鍵力　葉丙成：只有這兩種人才能真正把握時間紅利\n",
            "1  政治               蕭美琴直播初體驗曝「咪琴嚴選」　邀網友挺花蓮\n",
            "2  政治                 疑似國軍「在美受訓」照曝光！　陸軍不評論\n",
            "3  政治      「蔡英文、柯文哲有談NCC」　府：沒談人選、政黨比例更沒私下喬\n",
            "4  政治      總統府否認蔡英文向柯喬NCC委員　黃國昌嗆：醜聞被揭露還敢說謊 \n",
            "\n",
            "--2025-06-16 02:17:54--  https://raw.githubusercontent.com/imchihchao/aop113b/main/materials/04-dict.txt\n",
            "Resolving raw.githubusercontent.com (raw.githubusercontent.com)... 185.199.108.133, 185.199.109.133, 185.199.110.133, ...\n",
            "Connecting to raw.githubusercontent.com (raw.githubusercontent.com)|185.199.108.133|:443... connected.\n",
            "HTTP request sent, awaiting response... 200 OK\n",
            "Length: 4154480 (4.0M) [application/octet-stream]\n",
            "Saving to: ‘dict.txt’\n",
            "\n",
            "dict.txt            100%[===================>]   3.96M  --.-KB/s    in 0.1s    \n",
            "\n",
            "2025-06-16 02:17:55 (39.6 MB/s) - ‘dict.txt’ saved [4154480/4154480]\n",
            "\n",
            "--2025-06-16 02:17:55--  https://raw.githubusercontent.com/imchihchao/aop113b/main/materials/04-stopwords.txt\n",
            "Resolving raw.githubusercontent.com (raw.githubusercontent.com)... 185.199.108.133, 185.199.110.133, 185.199.111.133, ...\n",
            "Connecting to raw.githubusercontent.com (raw.githubusercontent.com)|185.199.108.133|:443... connected.\n",
            "HTTP request sent, awaiting response... 200 OK\n",
            "Length: 8129 (7.9K) [text/plain]\n",
            "Saving to: ‘stopwords.txt’\n",
            "\n",
            "stopwords.txt       100%[===================>]   7.94K  --.-KB/s    in 0s      \n",
            "\n",
            "2025-06-16 02:17:55 (79.1 MB/s) - ‘stopwords.txt’ saved [8129/8129]\n",
            "\n"
          ]
        },
        {
          "output_type": "stream",
          "name": "stderr",
          "text": [
            "Building prefix dict from /content/dict.txt ...\n",
            "DEBUG:jieba:Building prefix dict from /content/dict.txt ...\n",
            "Dumping model to file cache /tmp/jieba.ueb620ec8402181953a0299d7957c0d6e.cache\n",
            "DEBUG:jieba:Dumping model to file cache /tmp/jieba.ueb620ec8402181953a0299d7957c0d6e.cache\n",
            "Loading model cost 2.945 seconds.\n",
            "DEBUG:jieba:Loading model cost 2.945 seconds.\n",
            "Prefix dict has been built successfully.\n",
            "DEBUG:jieba:Prefix dict has been built successfully.\n"
          ]
        },
        {
          "output_type": "stream",
          "name": "stdout",
          "text": [
            "0    青年 座談 AI 取代 關鍵 力 葉丙成 這兩種 人才 真正 把握 時間 紅利\n",
            "1                蕭美琴 直播 體驗 曝 咪琴 嚴選 邀 網友 挺 花蓮\n",
            "2                        疑似 國軍 美 受訓 曝光 陸軍 評論\n",
            "3          蔡英文 柯文哲 有談 NCC 府 沒談 人選 政黨 比例 私下 喬\n",
            "4     總統府 否認 蔡英文 柯喬 NCC 委員 黃國昌 嗆 醜聞 揭露 還敢 說謊\n",
            "Name: 標題, dtype: object \n",
            "\n"
          ]
        }
      ],
      "source": [
        "# 1. 載入套件 & 讀取資料\n",
        "import pandas as pd\n",
        "\n",
        "url = 'https://raw.githubusercontent.com/imchihchao/aop113b/main/materials/04-ettoday_news.csv'\n",
        "df  = pd.read_csv(url)\n",
        "print(df.head(), '\\n')\n",
        "\n",
        "# 2. 下載字典與停用詞 (Notebook 可用)\n",
        "!wget -O dict.txt      https://raw.githubusercontent.com/imchihchao/aop113b/main/materials/04-dict.txt\n",
        "!wget -O stopwords.txt https://raw.githubusercontent.com/imchihchao/aop113b/main/materials/04-stopwords.txt\n",
        "\n",
        "# 3. 中文斷詞 + 去停用詞\n",
        "import jieba\n",
        "jieba.set_dictionary('dict.txt')\n",
        "\n",
        "def load_stopwords(filepath):\n",
        "    with open(filepath, 'r', encoding='utf-8') as f:\n",
        "        return set(line.strip() for line in f if line.strip())\n",
        "\n",
        "stopwords = load_stopwords('stopwords.txt')\n",
        "\n",
        "def jieba_cut_with_stopwords(text, stopwords):\n",
        "    return [w for w in jieba.cut(text)\n",
        "            if w.strip() and w not in stopwords]\n",
        "\n",
        "# 把「標題」欄做斷詞並用空格串起來\n",
        "df['標題'] = df['標題'].apply(\n",
        "    lambda x: ' '.join(jieba_cut_with_stopwords(x, stopwords))\n",
        ")\n",
        "print(df['標題'].head(), '\\n')\n",
        "\n",
        "# 4. 切分資料\n",
        "from sklearn.model_selection import train_test_split\n",
        "X = df['標題']\n",
        "y = df['類別']\n",
        "X_train, X_test, y_train, y_test = train_test_split(\n",
        "    X, y, test_size=0.2, random_state=42\n",
        ")\n",
        "\n",
        "# 5. 類別編碼\n",
        "from sklearn.preprocessing import LabelEncoder\n",
        "label_encoder = LabelEncoder()\n",
        "y_train_enc = label_encoder.fit_transform(y_train)\n",
        "y_test_enc  = label_encoder.transform(y_test)\n",
        "\n",
        "# 6. TF–IDF 特徵化\n",
        "from sklearn.feature_extraction.text import TfidfVectorizer\n",
        "vectorizer = TfidfVectorizer()\n",
        "X_train_tfidf = vectorizer.fit_transform(X_train)\n",
        "X_test_tfidf  = vectorizer.transform(X_test)\n",
        "\n",
        "# 7. 模型訓練 & 評估\n",
        "from sklearn.naive_bayes import MultinomialNB\n",
        "from sklearn.metrics       import accuracy_score, classification_report\n",
        "\n",
        "mnb = MultinomialNB(alpha=1.0)\n",
        "mnb.fit(X_train_tfidf, y_train_enc)\n",
        "\n",
        "train_score = mnb.score(X_train_tfidf, y_train_enc)\n",
        "print(f\"Training accuracy: {train_score:.4f}\")\n",
        "\n",
        "y_pred = mnb.predict(X_test_tfidf)\n",
        "print(\"Test  accuracy:\", accuracy_score(y_test_enc, y_pred))\n",
        "print(\"Classification report:\\n\", classification_report(y_test_enc, y_pred))\n",
        "\n",
        "# 8. 範例推論\n",
        "text = '桌球／踢館？嗆誰管選舉一面之詞翻盤滾球  選訝委員：勿用政治手段處理'\n",
        "cut  = jieba_cut_with_stopwords(text, stopwords)\n",
        "s    = vectorizer.transform([' '.join(cut)])\n",
        "pred = mnb.predict(s)[0]\n",
        "print(\"Predicted label index:\", pred)\n",
        "print(\"Predicted category:\", label_encoder.classes_[pred])\n"
      ]
    }
  ]
}