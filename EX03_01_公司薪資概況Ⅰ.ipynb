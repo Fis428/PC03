{
  "nbformat": 4,
  "nbformat_minor": 0,
  "metadata": {
    "colab": {
      "provenance": [],
      "authorship_tag": "ABX9TyNMJBKw8OC5gA3JTvPm1beg",
      "include_colab_link": true
    },
    "kernelspec": {
      "name": "python3",
      "display_name": "Python 3"
    },
    "language_info": {
      "name": "python"
    }
  },
  "cells": [
    {
      "cell_type": "markdown",
      "metadata": {
        "id": "view-in-github",
        "colab_type": "text"
      },
      "source": [
        "<a href=\"https://colab.research.google.com/github/Fis428/PC03/blob/main/EX03_01_%E5%85%AC%E5%8F%B8%E8%96%AA%E8%B3%87%E6%A6%82%E6%B3%81%E2%85%A0.ipynb\" target=\"_parent\"><img src=\"https://colab.research.google.com/assets/colab-badge.svg\" alt=\"Open In Colab\"/></a>"
      ]
    },
    {
      "cell_type": "code",
      "execution_count": 1,
      "metadata": {
        "colab": {
          "base_uri": "https://localhost:8080/"
        },
        "id": "YMaAkY1VFw7D",
        "outputId": "196ad542-c04d-4d44-8ea5-eec8432294dc"
      },
      "outputs": [
        {
          "output_type": "stream",
          "name": "stdout",
          "text": [
            "完整資料：\n",
            "    ID     Name  Age          City  Salary Department\n",
            "0  101    Alice   25      New York   50000         IT\n",
            "1  102      Bob   30   Los Angeles   60000         HR\n",
            "2  103  Charlie   35       Chicago   75000    Finance\n",
            "3  104    David   40       Houston   80000  Marketing\n",
            "4  105      Eve   22       Phoenix   45000         IT\n",
            "5  106    Frank   29  Philadelphia   62000         HR\n",
            "6  107    Grace   38   San Antonio   72000    Finance\n",
            "7  108    Helen   27     San Diego   58000  Marketing\n",
            "8  109      Ivy   33        Dallas   69000         IT\n",
            "9  110     Jack   31      San Jose   71000    Finance\n",
            "\n",
            "Name 和 Salary 欄位：\n",
            "      Name  Salary\n",
            "0    Alice   50000\n",
            "1      Bob   60000\n",
            "2  Charlie   75000\n",
            "3    David   80000\n",
            "4      Eve   45000\n",
            "5    Frank   62000\n",
            "6    Grace   72000\n",
            "7    Helen   58000\n",
            "8      Ivy   69000\n",
            "9     Jack   71000\n",
            "\n",
            "索引值 5 到 8 的資料：\n",
            "    ID   Name  Age          City  Salary Department\n",
            "5  106  Frank   29  Philadelphia   62000         HR\n",
            "6  107  Grace   38   San Antonio   72000    Finance\n",
            "7  108  Helen   27     San Diego   58000  Marketing\n",
            "8  109    Ivy   33        Dallas   69000         IT\n",
            "\n",
            "年齡和薪水都高於平均值的人員：\n",
            "    ID     Name  Age         City  Salary Department\n",
            "2  103  Charlie   35      Chicago   75000    Finance\n",
            "3  104    David   40      Houston   80000  Marketing\n",
            "6  107    Grace   38  San Antonio   72000    Finance\n",
            "8  109      Ivy   33       Dallas   69000         IT\n",
            "\n",
            "公司人員薪資統計：\n",
            "平均薪水：64200.0\n",
            "最高薪水：80000\n",
            "最低薪水：45000\n",
            "薪資中位數：65500.0\n",
            "\n",
            "部門資訊：\n",
            "公司共有 4 個部門\n",
            "薪水最高的部門是：Finance\n",
            "最年輕的部門是：IT\n",
            "\n",
            "年齡與薪資的相關係數：\n",
            "0.9493437326505051\n"
          ]
        }
      ],
      "source": [
        "import pandas as pd\n",
        "data = {\n",
        "    'ID': [101, 102, 103, 104, 105, 106, 107, 108, 109, 110],\n",
        "    'Name': ['Alice', 'Bob', 'Charlie', 'David', 'Eve', 'Frank', 'Grace', 'Helen', 'Ivy', 'Jack'],\n",
        "    'Age': [25, 30, 35, 40, 22, 29, 38, 27, 33, 31],\n",
        "    'City': ['New York', 'Los Angeles', 'Chicago', 'Houston', 'Phoenix', 'Philadelphia', 'San Antonio', 'San Diego', 'Dallas', 'San Jose'],\n",
        "    'Salary': [50000, 60000, 75000, 80000, 45000, 62000, 72000, 58000, 69000, 71000],\n",
        "    'Department': ['IT', 'HR', 'Finance', 'Marketing', 'IT', 'HR', 'Finance', 'Marketing', 'IT', 'Finance']\n",
        "}\n",
        "df = pd.DataFrame(data)\n",
        "\n",
        "# 顯示 DataFrame\n",
        "print(\"完整資料：\")\n",
        "print(df)\n",
        "\n",
        "# 1. 取得 Name 和 Salary 兩欄資料\n",
        "print(\"\\nName 和 Salary 欄位：\")\n",
        "print(df[['Name', 'Salary']])\n",
        "\n",
        "# 2. 取出索引值 5 到 8 共 4 筆資料\n",
        "print(\"\\n索引值 5 到 8 的資料：\")\n",
        "print(df.iloc[5:9])\n",
        "\n",
        "# 3. 找出年齡和薪水都高於平均值的人員\n",
        "avg_age = df['Age'].mean()\n",
        "avg_salary = df['Salary'].mean()\n",
        "high_age_salary = df[(df['Age'] > avg_age) & (df['Salary'] > avg_salary)]\n",
        "print(\"\\n年齡和薪水都高於平均值的人員：\")\n",
        "print(high_age_salary)\n",
        "\n",
        "# 4. 公司人員的平均薪水、最高薪水、最低薪水、中位數\n",
        "avg_salary_val = df['Salary'].mean()\n",
        "max_salary = df['Salary'].max()\n",
        "min_salary = df['Salary'].min()\n",
        "median_salary = df['Salary'].median()\n",
        "\n",
        "print(\"\\n公司人員薪資統計：\")\n",
        "print(f\"平均薪水：{avg_salary_val}\")\n",
        "print(f\"最高薪水：{max_salary}\")\n",
        "print(f\"最低薪水：{min_salary}\")\n",
        "print(f\"薪資中位數：{median_salary}\")\n",
        "\n",
        "# 5. 公司共有幾個部門？那個部門薪水最高？那個部門最年輕？\n",
        "departments = df['Department'].nunique()\n",
        "highest_salary_department = df.groupby('Department')['Salary'].mean().idxmax()\n",
        "youngest_department = df.groupby('Department')['Age'].mean().idxmin()\n",
        "\n",
        "print(\"\\n部門資訊：\")\n",
        "print(f\"公司共有 {departments} 個部門\")\n",
        "print(f\"薪水最高的部門是：{highest_salary_department}\")\n",
        "print(f\"最年輕的部門是：{youngest_department}\")\n",
        "\n",
        "# 6. 年齡是否與薪資有關？\n",
        "correlation = df['Age'].corr(df['Salary'])\n",
        "print(\"\\n年齡與薪資的相關係數：\")\n",
        "print(correlation)"
      ]
    }
  ]
}