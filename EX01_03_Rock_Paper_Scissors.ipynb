{
  "nbformat": 4,
  "nbformat_minor": 0,
  "metadata": {
    "colab": {
      "provenance": [],
      "authorship_tag": "ABX9TyOgUabgyU6aqJZYKIrhunj3",
      "include_colab_link": true
    },
    "kernelspec": {
      "name": "python3",
      "display_name": "Python 3"
    },
    "language_info": {
      "name": "python"
    }
  },
  "cells": [
    {
      "cell_type": "markdown",
      "metadata": {
        "id": "view-in-github",
        "colab_type": "text"
      },
      "source": [
        "<a href=\"https://colab.research.google.com/github/Fis428/PC03/blob/main/EX01_03_Rock_Paper_Scissors.ipynb\" target=\"_parent\"><img src=\"https://colab.research.google.com/assets/colab-badge.svg\" alt=\"Open In Colab\"/></a>"
      ]
    },
    {
      "cell_type": "code",
      "execution_count": 14,
      "metadata": {
        "id": "riLhhy8M2Wqy",
        "colab": {
          "base_uri": "https://localhost:8080/"
        },
        "outputId": "d6371017-e8aa-44b2-eccb-d86226316abb"
      },
      "outputs": [
        {
          "output_type": "stream",
          "name": "stdout",
          "text": [
            "輸入一個整數，代表出拳 (0:石頭,2:剪刀,5:布)2\n",
            "電腦出了: 0\n",
            "you lose\n"
          ]
        }
      ],
      "source": [
        "#引入 random 模組，用來隨機選擇電腦的出拳\n",
        "import random\n",
        "#讓使用者輸入一個整數，代表出拳 (0: 石頭, 2: 剪刀, 5: 布)\n",
        "ply = int(input(\"輸入一個整數，代表出拳 (0:石頭,2:剪刀,5:布)\"))\n",
        "#電腦隨機選擇\n",
        "cmp = random.choice([0, 2, 5])\n",
        "#顯示電腦的出拳結果\n",
        "print('電腦出了:', cmp)\n",
        "#如果使用者的出拳與電腦相同\n",
        "if ply == cmp:\n",
        "    print('draw')  # 平手\n",
        "elif (ply == 0 and cmp == 2) or (ply == 2 and cmp == 5) or (ply == 5 and cmp == 0):\n",
        "# 石頭 (0) 贏 剪刀 (2)\n",
        "# 剪刀 (2) 贏 布 (5)\n",
        "# 布 (5) 贏 石頭 (0)\n",
        "    print('you win')  # 使用者獲勝\n",
        "else:\n",
        "    print('you lose')  # 使用者輸\n"
      ]
    },
    {
      "cell_type": "code",
      "source": [
        "#改良版1_aka 啊我就不會甚麼520我就只想打剪刀石頭布咩\n",
        "\n",
        "#引入random 模組\n",
        "\n",
        "import random\n",
        "\n",
        "#用字典定義數字與名稱的對應關係\n",
        "choices = {\"石頭\": 0, \"剪刀\": 2, \"布\": 5}\n",
        "reverse_choices = {0: \"石頭\", 2: \"剪刀\", 5: \"布\"}  #反向查找用\n",
        "\n",
        "#讓使用者輸入剪刀、石頭或布\n",
        "while True:\n",
        "    player_input = input(\"請輸入 剪刀、石頭 或 布：\")\n",
        "\n",
        "    if player_input in choices:\n",
        "        ply = choices[player_input] #轉換為對應數字\n",
        "        break\n",
        "\n",
        "    print(\"輸入錯誤，使用者是白癡嗎，就說要輸入剪刀石頭布，是哪裡聽不懂，請重新輸入！\")\n",
        "\n",
        "# 電腦隨機選擇出拳\n",
        "cmp = random.choice([0, 2, 5])\n",
        "\n",
        "# 顯示出拳結果\n",
        "print(f\"你出的是：{player_input} ({ply})\")\n",
        "print(f\"電腦出的是：{reverse_choices[cmp]} ({cmp})\")\n",
        "\n",
        "# 判斷結果\n",
        "if ply == cmp:\n",
        "    print(\"結果：平手！\")\n",
        "elif (ply == 0 and cmp == 2) or (ply == 2 and cmp == 5) or (ply == 5 and cmp == 0):\n",
        "    print(\"結果：你贏了！🎉\")\n",
        "else:\n",
        "    print(\"結果：你輸了！😖😤😤😢\")\n"
      ],
      "metadata": {
        "colab": {
          "base_uri": "https://localhost:8080/"
        },
        "id": "c5X2Lxy7el5-",
        "outputId": "01402887-7364-43a6-eab7-6992c52ecd06"
      },
      "execution_count": 21,
      "outputs": [
        {
          "output_type": "stream",
          "name": "stdout",
          "text": [
            "請輸入 剪刀、石頭 或 布：布\n",
            "你出的是：布 (5)\n",
            "電腦出的是：布 (5)\n",
            "結果：平手！\n"
          ]
        }
      ]
    },
    {
      "cell_type": "code",
      "source": [
        "#改良版2 說是遊戲應該要可以一直玩吧 我不要只玩一次\n",
        "#所以加入迴圈 跟勝率計算\n",
        "import random  # 引入 random 模組\n",
        "\n",
        "# 定義數字與名稱的對應關係\n",
        "choices = {\"石頭\": 0, \"剪刀\": 2, \"布\": 5}\n",
        "reverse_choices = {0: \"石頭\", 2: \"剪刀\", 5: \"布\"}  #反向查找用\n",
        "\n",
        "# 初始化統計數據\n",
        "total_games = 0\n",
        "win_count = 0\n",
        "\n",
        "print(\"===== 剪刀石頭布遊戲 =====\")\n",
        "print(\"請輸入 剪刀、石頭 或 布 來出拳\")\n",
        "print(\"輸入 'q' 退出遊戲\")\n",
        "\n",
        "while True:\n",
        "    # 讓使用者輸入剪刀、石頭或布\n",
        "    player_input = input(\"\\n請出拳（剪刀/石頭/布）或輸入 'q' 退出：\")\n",
        "\n",
        "    if player_input.lower() == 'q':  # 判斷是否退出遊戲\n",
        "        break\n",
        "\n",
        "    if player_input not in choices:  # 錯誤輸入處理\n",
        "        print(\"輸入錯誤，請輸入 剪刀、石頭 或 布！\")\n",
        "        continue\n",
        "\n",
        "    ply = choices[player_input]  # 轉換為對應數字\n",
        "    cmp = random.choice([0, 2, 5])  # 電腦隨機出拳\n",
        "\n",
        "    # 顯示出拳結果\n",
        "    print(f\"你出的是：{player_input} ({ply})\")\n",
        "    print(f\"電腦出的是：{reverse_choices[cmp]} ({cmp})\")\n",
        "\n",
        "    # 判斷結果\n",
        "    if ply == cmp:\n",
        "        print(\"結果：平手！🤝\")\n",
        "    elif (ply == 0 and cmp == 2) or (ply == 2 and cmp == 5) or (ply == 5 and cmp == 0):\n",
        "        print(\"結果：你贏了！🎉\")\n",
        "        win_count += 1  # 記錄勝利次數\n",
        "    else:\n",
        "        print(\"結果：你輸了！😭\")\n",
        "\n",
        "    total_games += 1  # 增加遊玩次數\n",
        "\n",
        "# 顯示統計結果\n",
        "if total_games > 0:\n",
        "    win_rate = (win_count / total_games) * 100\n",
        "    print(\"\\n===== 遊戲結束 =====\")\n",
        "    print(f\"總遊戲次數：{total_games}\")\n",
        "    print(f\"勝利次數：{win_count}\")\n",
        "    print(f\"勝率：{win_rate:.2f}%\")\n",
        "else:\n",
        "    print(\"\\n未進行任何遊戲，歡迎下次再來！\")\n",
        "\n",
        "print(\"感謝遊玩！👋\")\n"
      ],
      "metadata": {
        "colab": {
          "base_uri": "https://localhost:8080/"
        },
        "id": "3Q_Ff6nMjFQT",
        "outputId": "768262e0-9b02-47b3-e549-6d4f15148944"
      },
      "execution_count": 22,
      "outputs": [
        {
          "output_type": "stream",
          "name": "stdout",
          "text": [
            "===== 剪刀石頭布遊戲 =====\n",
            "請輸入 剪刀、石頭 或 布 來出拳\n",
            "輸入 'q' 退出遊戲\n",
            "\n",
            "請出拳（剪刀/石頭/布）或輸入 'q' 退出：ru032l \n",
            "輸入錯誤，請輸入 剪刀、石頭 或 布！\n",
            "\n",
            "請出拳（剪刀/石頭/布）或輸入 'q' 退出：剪刀\n",
            "你出的是：剪刀 (2)\n",
            "電腦出的是：剪刀 (2)\n",
            "結果：平手！🤝\n",
            "\n",
            "請出拳（剪刀/石頭/布）或輸入 'q' 退出：布\n",
            "你出的是：布 (5)\n",
            "電腦出的是：剪刀 (2)\n",
            "結果：你輸了！😭\n",
            "\n",
            "請出拳（剪刀/石頭/布）或輸入 'q' 退出：石頭\n",
            "你出的是：石頭 (0)\n",
            "電腦出的是：石頭 (0)\n",
            "結果：平手！🤝\n",
            "\n",
            "請出拳（剪刀/石頭/布）或輸入 'q' 退出：檢ˇ刀\n",
            "輸入錯誤，請輸入 剪刀、石頭 或 布！\n",
            "\n",
            "請出拳（剪刀/石頭/布）或輸入 'q' 退出：剪刀\n",
            "你出的是：剪刀 (2)\n",
            "電腦出的是：剪刀 (2)\n",
            "結果：平手！🤝\n",
            "\n",
            "請出拳（剪刀/石頭/布）或輸入 'q' 退出：q\n",
            "\n",
            "===== 遊戲結束 =====\n",
            "總遊戲次數：4\n",
            "勝利次數：0\n",
            "勝率：0.00%\n",
            "感謝遊玩！👋\n"
          ]
        }
      ]
    },
    {
      "cell_type": "markdown",
      "source": [
        "教授好，\n",
        "\n",
        "我是亮璇，我有自己增加改良版的設計，\n",
        "但我遇到一個問題，該如何最大程度讓使用者的輸入是符合規定的，\n",
        "例如，我不想輸入剪刀，我輸入成 剪 ，或是我忘記切換鍵盤，輸入成ru032l，\n",
        "這種情況下，除了用if_else 去檢測有無錯誤輸入，還有其他方式嗎？希望教授檢查作業時可以順便回答問題，感謝教授！\n",
        "\n",
        "敬祝 順心\n",
        "\n",
        "\n",
        "\n"
      ],
      "metadata": {
        "id": "rKDi7GULj2Fd"
      }
    }
  ]
}