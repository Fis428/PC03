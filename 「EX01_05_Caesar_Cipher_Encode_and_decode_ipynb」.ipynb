{
  "nbformat": 4,
  "nbformat_minor": 0,
  "metadata": {
    "colab": {
      "provenance": [],
      "authorship_tag": "ABX9TyPuum1k1I1pAhQSzhuff+ZL",
      "include_colab_link": true
    },
    "kernelspec": {
      "name": "python3",
      "display_name": "Python 3"
    },
    "language_info": {
      "name": "python"
    }
  },
  "cells": [
    {
      "cell_type": "markdown",
      "metadata": {
        "id": "view-in-github",
        "colab_type": "text"
      },
      "source": [
        "<a href=\"https://colab.research.google.com/github/Fis428/PC03/blob/main/%E3%80%8CEX01_05_Caesar_Cipher_Encode_and_decode_ipynb%E3%80%8D.ipynb\" target=\"_parent\"><img src=\"https://colab.research.google.com/assets/colab-badge.svg\" alt=\"Open In Colab\"/></a>"
      ]
    },
    {
      "cell_type": "code",
      "source": [
        "#老師上課教的版本\n",
        "act= input(\"請輸入加解密及金鑰，例：d7，d表示解密（e表示加密），數字 7表金鑰\")\n",
        "text= input(\"請輸入要加解密的文字\")\n",
        "\n",
        "act_type=act[0] #輸入第一個判斷加解密\n",
        "key=int(act[1:])  #切片出輸入的數字(第二個)為金鑰\n",
        "final_text = ''\n",
        "\n",
        "if act_type==\"e\": #判斷模式 加密/解密\n",
        "  for char in text:\n",
        "    nc = ord(char)+ key #加密為e 位移向後\n",
        "    final_text=final_text+chr(nc) #將每一個加密後的字加入輸出字串\n",
        "elif act_type==\"d\":\n",
        "  for char in text:\n",
        "    nc = ord(char)- key #解密為d 位移向前\n",
        "    final_text=final_text+chr(nc) #將每一個解密後的字加入輸出字串\n",
        "\n",
        "print(final_text) #輸出加/解密後字串"
      ],
      "metadata": {
        "id": "32uKuCswBufL",
        "colab": {
          "base_uri": "https://localhost:8080/"
        },
        "outputId": "ec0808f0-0ccd-47a2-bc61-72aca8a81724"
      },
      "execution_count": 4,
      "outputs": [
        {
          "output_type": "stream",
          "name": "stdout",
          "text": [
            "請輸入加解密即金鑰，例：d7，d表示解密（e表示加密），數字 7表金鑰e1\n",
            "請輸入要加解密的文字123\n",
            "234\n"
          ]
        }
      ]
    },
    {
      "cell_type": "markdown",
      "source": [
        "\n",
        "### Caesar Cipher: Encode and decode\n",
        "\n",
        "---\n",
        "\n",
        "題目需求\n",
        "\n",
        "* 請寫一個凱撒密碼加密解密器\n",
        "\n",
        "* 第一個輸入加解密及金鑰，例：d7，d表示解密（e表示加密），數字 7表金鑰\n",
        "\n",
        "* 第二個輸入表示想要加解密的文字\n",
        "\n",
        "* 輸出加密後或解密後的文字\n",
        "\n",
        "---\n",
        "\n",
        "\n",
        "凱薩密碼規則\n",
        "\n",
        "凱撒密碼是一種替換加密技術，明文中的所有字母都在字母表上向後（或向前）按照一個固定數目進行偏移後被替換成密文。 例如，當偏移量是3的時候，所有的字母A將被替換成D，B變成E，以此類推。\n",
        "\n",
        "\n",
        "\n"
      ],
      "metadata": {
        "id": "tZNYfjMH6bir"
      }
    },
    {
      "cell_type": "code",
      "source": [
        "# 改良版 新增input確認 函式化\n",
        "\n",
        "def caesar_cipher(action: str, text: str) -> str:\n",
        "    \"\"\"\n",
        "    執行加解密的函式\n",
        "    :param action: 加密 (e) 或 解密 (d) 以及金鑰數字，例如 'e7' 或 'd5'\n",
        "    :param text: 要加解密的文字\n",
        "    :return: 加解密後的文字\n",
        "    \"\"\"\n",
        "    # 驗證輸入是否合法\n",
        "    if not action or len(action) < 2 or action[0] not in ('e', 'd') or not action[1:].isdigit():\n",
        "        return \"無效的輸入格式，請使用 'e數字' 或 'd數字' 來加解密，如 'e7' 或 'd3'\"\n",
        "\n",
        "    # 解析動作與金鑰\n",
        "    action_type = action[0]  # 取得加密 (e) 或 解密 (d)\n",
        "    key = int(action[1:])  # 取得金鑰數值\n",
        "\n",
        "    result_text = \"\"  # 存儲最終結果\n",
        "\n",
        "    # 執行加密或解密\n",
        "    for char in text:\n",
        "        if action_type == \"e\":\n",
        "            result_text += chr(ord(char) + key)  # 加密：字元 ASCII 值增加金鑰值\n",
        "        else:\n",
        "            result_text += chr(ord(char) - key)  # 解密：字元 ASCII 值減少金鑰值\n",
        "\n",
        "    return result_text\n",
        "\n",
        "# 取得使用者輸入\n",
        "act = input(\"請輸入加解密及金鑰（例：d7，d 表示解密，e 表示加密，數字 7 表示金鑰）：\")\n",
        "txt = input(\"請輸入要加解密的文字：\")\n",
        "\n",
        "# 執行加解密並輸出結果\n",
        "output = caesar_cipher(act, txt)\n",
        "print(\"結果：\", output)\n"
      ],
      "metadata": {
        "colab": {
          "base_uri": "https://localhost:8080/"
        },
        "id": "TWJMZffIPP-Q",
        "outputId": "12694129-2df3-48a0-abec-3d6f4059ea15"
      },
      "execution_count": 5,
      "outputs": [
        {
          "output_type": "stream",
          "name": "stdout",
          "text": [
            "請輸入加解密即金鑰（例：d7，d 表示解密，e 表示加密，數字 7 表示金鑰）：e2\n",
            "請輸入要加解密的文字：abc123\n",
            "結果： cde345\n"
          ]
        }
      ]
    }
  ]
}