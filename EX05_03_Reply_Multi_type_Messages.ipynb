{
  "nbformat": 4,
  "nbformat_minor": 0,
  "metadata": {
    "colab": {
      "provenance": [],
      "authorship_tag": "ABX9TyPRHf0/LuFUBLbk0AMoCO9v",
      "include_colab_link": true
    },
    "kernelspec": {
      "name": "python3",
      "display_name": "Python 3"
    },
    "language_info": {
      "name": "python"
    }
  },
  "cells": [
    {
      "cell_type": "markdown",
      "metadata": {
        "id": "view-in-github",
        "colab_type": "text"
      },
      "source": [
        "<a href=\"https://colab.research.google.com/github/Fis428/PC03/blob/main/EX05_03_Reply_Multi_type_Messages.ipynb\" target=\"_parent\"><img src=\"https://colab.research.google.com/assets/colab-badge.svg\" alt=\"Open In Colab\"/></a>"
      ]
    },
    {
      "cell_type": "code",
      "execution_count": null,
      "metadata": {
        "colab": {
          "base_uri": "https://localhost:8080/"
        },
        "id": "S7UfmftXjVwt",
        "outputId": "2ef2d556-6b4e-41be-df5a-8eb0159812c8"
      },
      "outputs": [
        {
          "output_type": "stream",
          "name": "stdout",
          "text": [
            "\u001b[?25l   \u001b[90m━━━━━━━━━━━━━━━━━━━━━━━━━━━━━━━━━━━━━━━━\u001b[0m \u001b[32m0.0/776.1 kB\u001b[0m \u001b[31m?\u001b[0m eta \u001b[36m-:--:--\u001b[0m\r\u001b[2K   \u001b[91m━━━━━━━━━━━━━━━━━━━━\u001b[0m\u001b[90m╺\u001b[0m\u001b[90m━━━━━━━━━━━━━━━━━━━\u001b[0m \u001b[32m389.1/776.1 kB\u001b[0m \u001b[31m11.6 MB/s\u001b[0m eta \u001b[36m0:00:01\u001b[0m\r\u001b[2K   \u001b[90m━━━━━━━━━━━━━━━━━━━━━━━━━━━━━━━━━━━━━━━━\u001b[0m \u001b[32m776.1/776.1 kB\u001b[0m \u001b[31m11.6 MB/s\u001b[0m eta \u001b[36m0:00:00\u001b[0m\n",
            "\u001b[?25h\u001b[?25l   \u001b[90m━━━━━━━━━━━━━━━━━━━━━━━━━━━━━━━━━━━━━━━━\u001b[0m \u001b[32m0.0/165.6 kB\u001b[0m \u001b[31m?\u001b[0m eta \u001b[36m-:--:--\u001b[0m\r\u001b[2K   \u001b[90m━━━━━━━━━━━━━━━━━━━━━━━━━━━━━━━━━━━━━━━━\u001b[0m \u001b[32m165.6/165.6 kB\u001b[0m \u001b[31m5.0 MB/s\u001b[0m eta \u001b[36m0:00:00\u001b[0m\n",
            "\u001b[?25h"
          ]
        }
      ],
      "source": [
        "# 安裝相依套件\n",
        "!pip install -q flask pyngrok flask_ngrok line-bot-sdk\n"
      ]
    },
    {
      "cell_type": "code",
      "source": [
        "\n",
        "import os\n",
        "\n",
        "# TODO: 將引號內替換成你的實際值\n",
        "os.environ['LINE_CHANNEL_ACCESS_TOKEN'] = '你的 LINE_CHANNEL_ACCESS_TOKEN'\n",
        "os.environ['LINE_CHANNEL_SECRET']      = '你的 LINE_CHANNEL_SECRET'\n",
        "os.environ['GOOGLE_API_KEY']           = '你的 GOOGLE_API_KEY'\n",
        "os.environ['NGROK_AUTHTOKEN']          = '你的 NGROK_AUTHTOKEN'\n",
        "\n",
        "# 1. 安裝必要套件（如已安裝過可略過）\n",
        "!pip install -q flask pyngrok flask_ngrok line-bot-sdk google-generativeai\n",
        "\n",
        "# 2. 載入套件\n",
        "from flask import Flask, request, abort\n",
        "from pyngrok import ngrok\n",
        "from flask_ngrok import run_with_ngrok\n",
        "\n",
        "from linebot.v3 import WebhookHandler\n",
        "from linebot.v3.exceptions import InvalidSignatureError\n",
        "from linebot.v3.webhooks import MessageEvent, TextMessageContent\n",
        "from linebot.v3.messaging import (\n",
        "    Configuration, ApiClient, MessagingApi,\n",
        "    ReplyMessageRequest,\n",
        "    TextMessage, StickerMessage, ImageMessage, VideoMessage, LocationMessage\n",
        ")\n",
        "\n",
        "import google.generativeai as genai\n",
        "\n",
        "# 3. 從環境變數讀取金鑰\n",
        "LINE_TOKEN  = os.environ['LINE_CHANNEL_ACCESS_TOKEN']\n",
        "LINE_SECRET = os.environ['LINE_CHANNEL_SECRET']\n",
        "GOOGLE_KEY  = os.environ['GOOGLE_API_KEY']\n",
        "NGROK_TOKEN = os.environ['NGROK_AUTHTOKEN']\n",
        "\n",
        "# 4. Flask 與 LINE、Gemini 初始化\n",
        "app = Flask(__name__)\n",
        "\n",
        "configuration = Configuration(access_token=LINE_TOKEN)\n",
        "handler       = WebhookHandler(LINE_SECRET)\n",
        "\n",
        "genai.configure(api_key=GOOGLE_KEY)\n",
        "model = genai.GenerativeModel(\"gemini-2.0-flash\")\n",
        "\n",
        "def ask_gemini(question: str) -> str:\n",
        "    return model.generate_content(question).text\n",
        "\n",
        "# 5. ngrok 啟動（Colab 上用）\n",
        "def start_ngrok():\n",
        "    ngrok.set_auth_token(NGROK_TOKEN)\n",
        "    public_url = ngrok.connect(5000)\n",
        "    print(\"ngrok URL:\", public_url)\n",
        "    run_with_ngrok(app)\n",
        "\n",
        "# 6. 設定 LINE Webhook 路由\n",
        "@app.route(\"/callback\", methods=['POST'])\n",
        "def callback():\n",
        "    signature = request.headers.get('X-Line-Signature', '')\n",
        "    body      = request.get_data(as_text=True)\n",
        "    try:\n",
        "        handler.handle(body, signature)\n",
        "    except InvalidSignatureError:\n",
        "        abort(400)\n",
        "    return \"OK\"\n",
        "\n",
        "# 7. 處理收到的訊息：文字、貼圖、圖片、影片、位置或交給 Gemini\n",
        "@handler.add(MessageEvent, message=TextMessageContent)\n",
        "def handle_message(event):\n",
        "    user_input = event.message.text.strip().lower()\n",
        "\n",
        "    # 根據特定指令回不同訊息類型\n",
        "    if user_input == 'sticker':\n",
        "        reply = StickerMessage(package_id='446', sticker_id='1989')\n",
        "    elif user_input == 'image':\n",
        "        reply = ImageMessage(\n",
        "            original_content_url='https://cdn.pixabay.com/photo/2019/02/21/18/36/city-4011922_1280.jpg',\n",
        "            preview_image_url='https://cdn.pixabay.com/photo/2019/02/21/18/36/city-4011922_1280.jpg'\n",
        "        )\n",
        "    elif user_input == 'video':\n",
        "        reply = VideoMessage(\n",
        "            original_content_url='https://cdn.pixabay.com/video/2021/07/08/80724-573496156_large.mp4',\n",
        "            preview_image_url='https://cdn.pixabay.com/photo/2017/02/11/14/45/taipei-taiwan-2057818_1280.jpg'\n",
        "        )\n",
        "    elif user_input == 'location':\n",
        "        reply = LocationMessage(\n",
        "            title='Taipei 101',\n",
        "            address='110台北市信義區信義路五段7號',\n",
        "            latitude=25.034199559170606,\n",
        "            longitude=121.56456035396677\n",
        "        )\n",
        "    else:\n",
        "        # 其餘文字交給 Gemini AI 回答\n",
        "        ai_reply = ask_gemini(event.message.text)\n",
        "        reply = TextMessage(text=ai_reply)\n",
        "\n",
        "    # 回覆 LINE\n",
        "    with ApiClient(configuration) as api_client:\n",
        "        line_api = MessagingApi(api_client)\n",
        "        line_api.reply_message(\n",
        "            ReplyMessageRequest(\n",
        "                reply_token=event.reply_token,\n",
        "                messages=[reply]\n",
        "            )\n",
        "        )\n",
        "\n",
        "# 8. 啟動應用\n",
        "if __name__ == \"__main__\":\n",
        "    # 若在 Colab，使用 ngrok；否則直接跑 Flask\n",
        "    try:\n",
        "        start_ngrok()\n",
        "    except Exception:\n",
        "        app.run(port=5000)\n"
      ],
      "metadata": {
        "colab": {
          "base_uri": "https://localhost:8080/"
        },
        "id": "4upv14DljgJT",
        "outputId": "95f763a2-71c2-4ba6-9e88-873d8b424f79"
      },
      "execution_count": null,
      "outputs": [
        {
          "output_type": "stream",
          "name": "stdout",
          "text": []
        },
        {
          "output_type": "stream",
          "name": "stderr",
          "text": [
            "ERROR:pyngrok.process.ngrok:t=2025-06-16T02:26:25+0000 lvl=eror msg=\"failed to reconnect session\" obj=tunnels.session err=\"authentication failed: The authtoken you specified does not look like a proper ngrok tunnel authtoken.\\nYour authtoken: 你的 NGROK_AUTHTOKEN\\nInstructions to install your authtoken are on your ngrok dashboard:\\nhttps://dashboard.ngrok.com/get-started/your-authtoken\\r\\n\\r\\nERR_NGROK_105\\r\\n\"\n",
            "ERROR:pyngrok.process.ngrok:t=2025-06-16T02:26:25+0000 lvl=eror msg=\"session closing\" obj=tunnels.session err=\"authentication failed: The authtoken you specified does not look like a proper ngrok tunnel authtoken.\\nYour authtoken: 你的 NGROK_AUTHTOKEN\\nInstructions to install your authtoken are on your ngrok dashboard:\\nhttps://dashboard.ngrok.com/get-started/your-authtoken\\r\\n\\r\\nERR_NGROK_105\\r\\n\"\n",
            "ERROR:pyngrok.process.ngrok:t=2025-06-16T02:26:25+0000 lvl=eror msg=\"terminating with error\" obj=app err=\"authentication failed: The authtoken you specified does not look like a proper ngrok tunnel authtoken.\\nYour authtoken: 你的 NGROK_AUTHTOKEN\\nInstructions to install your authtoken are on your ngrok dashboard:\\nhttps://dashboard.ngrok.com/get-started/your-authtoken\\r\\n\\r\\nERR_NGROK_105\\r\\n\"\n"
          ]
        },
        {
          "output_type": "stream",
          "name": "stdout",
          "text": [
            " * Serving Flask app '__main__'\n",
            " * Debug mode: off\n"
          ]
        },
        {
          "output_type": "stream",
          "name": "stderr",
          "text": [
            "INFO:werkzeug:\u001b[31m\u001b[1mWARNING: This is a development server. Do not use it in a production deployment. Use a production WSGI server instead.\u001b[0m\n",
            " * Running on http://127.0.0.1:5000\n",
            "INFO:werkzeug:\u001b[33mPress CTRL+C to quit\u001b[0m\n"
          ]
        }
      ]
    }
  ]
}